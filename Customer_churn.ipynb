{
  "cells": [
    {
      "cell_type": "markdown",
      "metadata": {
        "id": "view-in-github",
        "colab_type": "text"
      },
      "source": [
        "<a href=\"https://colab.research.google.com/github/schizohub/ML_projects/blob/main/Customer_churn.ipynb\" target=\"_parent\"><img src=\"https://colab.research.google.com/assets/colab-badge.svg\" alt=\"Open In Colab\"/></a>"
      ]
    },
    {
      "cell_type": "code",
      "execution_count": 1,
      "id": "ea38bc02",
      "metadata": {
        "id": "ea38bc02"
      },
      "outputs": [],
      "source": [
        "import pandas as pd\n",
        "import numpy as np\n",
        "import seaborn as sns\n",
        "import matplotlib.pyplot as plt\n",
        "from sklearn.model_selection import train_test_split, cross_val_score\n",
        "from sklearn.preprocessing import StandardScaler\n",
        "\n",
        "from sklearn.tree import DecisionTreeClassifier\n",
        "from sklearn.linear_model import LogisticRegression\n",
        "from sklearn.neighbors import KNeighborsClassifier\n",
        "from sklearn.ensemble import RandomForestClassifier\n",
        "from sklearn.svm import SVC\n",
        "\n",
        "from sklearn import metrics"
      ]
    },
    {
      "cell_type": "code",
      "execution_count": 2,
      "id": "4bbea3cf",
      "metadata": {
        "colab": {
          "base_uri": "https://localhost:8080/"
        },
        "id": "4bbea3cf",
        "outputId": "779f1b7d-0bf5-40ac-b424-392633acf835"
      },
      "outputs": [
        {
          "output_type": "stream",
          "name": "stdout",
          "text": [
            "Collecting xlrd==1.2.0\n",
            "  Downloading xlrd-1.2.0-py2.py3-none-any.whl (103 kB)\n",
            "\u001b[?25l\r\u001b[K     |███▏                            | 10 kB 26.7 MB/s eta 0:00:01\r\u001b[K     |██████▍                         | 20 kB 5.3 MB/s eta 0:00:01\r\u001b[K     |█████████▌                      | 30 kB 5.7 MB/s eta 0:00:01\r\u001b[K     |████████████▊                   | 40 kB 4.7 MB/s eta 0:00:01\r\u001b[K     |███████████████▉                | 51 kB 4.7 MB/s eta 0:00:01\r\u001b[K     |███████████████████             | 61 kB 5.6 MB/s eta 0:00:01\r\u001b[K     |██████████████████████▏         | 71 kB 4.8 MB/s eta 0:00:01\r\u001b[K     |█████████████████████████▍      | 81 kB 4.8 MB/s eta 0:00:01\r\u001b[K     |████████████████████████████▋   | 92 kB 5.3 MB/s eta 0:00:01\r\u001b[K     |███████████████████████████████▊| 102 kB 5.4 MB/s eta 0:00:01\r\u001b[K     |████████████████████████████████| 103 kB 5.4 MB/s \n",
            "\u001b[?25hInstalling collected packages: xlrd\n",
            "  Attempting uninstall: xlrd\n",
            "    Found existing installation: xlrd 1.1.0\n",
            "    Uninstalling xlrd-1.1.0:\n",
            "      Successfully uninstalled xlrd-1.1.0\n",
            "Successfully installed xlrd-1.2.0\n"
          ]
        }
      ],
      "source": [
        "!pip install xlrd==1.2.0"
      ]
    },
    {
      "cell_type": "code",
      "execution_count": 3,
      "id": "9c897a15",
      "metadata": {
        "colab": {
          "base_uri": "https://localhost:8080/",
          "height": 336
        },
        "id": "9c897a15",
        "outputId": "8a4ee507-a472-4fe1-b8f5-0e35769bcf47"
      },
      "outputs": [
        {
          "output_type": "execute_result",
          "data": {
            "text/plain": [
              "            Churn  Tenure PreferredLoginDevice  CityTier  WarehouseToHome  \\\n",
              "CustomerID                                                                  \n",
              "50001           1     4.0         Mobile Phone         3              6.0   \n",
              "50002           1     NaN                Phone         1              8.0   \n",
              "50003           1     NaN                Phone         1             30.0   \n",
              "50004           1     0.0                Phone         3             15.0   \n",
              "50005           1     0.0                Phone         1             12.0   \n",
              "\n",
              "           PreferredPaymentMode  Gender  HourSpendOnApp  \\\n",
              "CustomerID                                                \n",
              "50001                Debit Card  Female             3.0   \n",
              "50002                       UPI    Male             3.0   \n",
              "50003                Debit Card    Male             2.0   \n",
              "50004                Debit Card    Male             2.0   \n",
              "50005                        CC    Male             NaN   \n",
              "\n",
              "            NumberOfDeviceRegistered    PreferedOrderCat  SatisfactionScore  \\\n",
              "CustomerID                                                                    \n",
              "50001                              3  Laptop & Accessory                  2   \n",
              "50002                              4              Mobile                  3   \n",
              "50003                              4              Mobile                  3   \n",
              "50004                              4  Laptop & Accessory                  5   \n",
              "50005                              3              Mobile                  5   \n",
              "\n",
              "           MaritalStatus  NumberOfAddress  Complain  \\\n",
              "CustomerID                                            \n",
              "50001             Single                9         1   \n",
              "50002             Single                7         1   \n",
              "50003             Single                6         1   \n",
              "50004             Single                8         0   \n",
              "50005             Single                3         0   \n",
              "\n",
              "            OrderAmountHikeFromlastYear  CouponUsed  OrderCount  \\\n",
              "CustomerID                                                        \n",
              "50001                              11.0         1.0         1.0   \n",
              "50002                              15.0         0.0         1.0   \n",
              "50003                              14.0         0.0         1.0   \n",
              "50004                              23.0         0.0         1.0   \n",
              "50005                              11.0         1.0         1.0   \n",
              "\n",
              "            DaySinceLastOrder  CashbackAmount  \n",
              "CustomerID                                     \n",
              "50001                     5.0          159.93  \n",
              "50002                     0.0          120.90  \n",
              "50003                     3.0          120.28  \n",
              "50004                     3.0          134.07  \n",
              "50005                     3.0          129.60  "
            ],
            "text/html": [
              "\n",
              "  <div id=\"df-34068bc4-07f0-442e-b89a-854dd3256441\">\n",
              "    <div class=\"colab-df-container\">\n",
              "      <div>\n",
              "<style scoped>\n",
              "    .dataframe tbody tr th:only-of-type {\n",
              "        vertical-align: middle;\n",
              "    }\n",
              "\n",
              "    .dataframe tbody tr th {\n",
              "        vertical-align: top;\n",
              "    }\n",
              "\n",
              "    .dataframe thead th {\n",
              "        text-align: right;\n",
              "    }\n",
              "</style>\n",
              "<table border=\"1\" class=\"dataframe\">\n",
              "  <thead>\n",
              "    <tr style=\"text-align: right;\">\n",
              "      <th></th>\n",
              "      <th>Churn</th>\n",
              "      <th>Tenure</th>\n",
              "      <th>PreferredLoginDevice</th>\n",
              "      <th>CityTier</th>\n",
              "      <th>WarehouseToHome</th>\n",
              "      <th>PreferredPaymentMode</th>\n",
              "      <th>Gender</th>\n",
              "      <th>HourSpendOnApp</th>\n",
              "      <th>NumberOfDeviceRegistered</th>\n",
              "      <th>PreferedOrderCat</th>\n",
              "      <th>SatisfactionScore</th>\n",
              "      <th>MaritalStatus</th>\n",
              "      <th>NumberOfAddress</th>\n",
              "      <th>Complain</th>\n",
              "      <th>OrderAmountHikeFromlastYear</th>\n",
              "      <th>CouponUsed</th>\n",
              "      <th>OrderCount</th>\n",
              "      <th>DaySinceLastOrder</th>\n",
              "      <th>CashbackAmount</th>\n",
              "    </tr>\n",
              "    <tr>\n",
              "      <th>CustomerID</th>\n",
              "      <th></th>\n",
              "      <th></th>\n",
              "      <th></th>\n",
              "      <th></th>\n",
              "      <th></th>\n",
              "      <th></th>\n",
              "      <th></th>\n",
              "      <th></th>\n",
              "      <th></th>\n",
              "      <th></th>\n",
              "      <th></th>\n",
              "      <th></th>\n",
              "      <th></th>\n",
              "      <th></th>\n",
              "      <th></th>\n",
              "      <th></th>\n",
              "      <th></th>\n",
              "      <th></th>\n",
              "      <th></th>\n",
              "    </tr>\n",
              "  </thead>\n",
              "  <tbody>\n",
              "    <tr>\n",
              "      <th>50001</th>\n",
              "      <td>1</td>\n",
              "      <td>4.0</td>\n",
              "      <td>Mobile Phone</td>\n",
              "      <td>3</td>\n",
              "      <td>6.0</td>\n",
              "      <td>Debit Card</td>\n",
              "      <td>Female</td>\n",
              "      <td>3.0</td>\n",
              "      <td>3</td>\n",
              "      <td>Laptop &amp; Accessory</td>\n",
              "      <td>2</td>\n",
              "      <td>Single</td>\n",
              "      <td>9</td>\n",
              "      <td>1</td>\n",
              "      <td>11.0</td>\n",
              "      <td>1.0</td>\n",
              "      <td>1.0</td>\n",
              "      <td>5.0</td>\n",
              "      <td>159.93</td>\n",
              "    </tr>\n",
              "    <tr>\n",
              "      <th>50002</th>\n",
              "      <td>1</td>\n",
              "      <td>NaN</td>\n",
              "      <td>Phone</td>\n",
              "      <td>1</td>\n",
              "      <td>8.0</td>\n",
              "      <td>UPI</td>\n",
              "      <td>Male</td>\n",
              "      <td>3.0</td>\n",
              "      <td>4</td>\n",
              "      <td>Mobile</td>\n",
              "      <td>3</td>\n",
              "      <td>Single</td>\n",
              "      <td>7</td>\n",
              "      <td>1</td>\n",
              "      <td>15.0</td>\n",
              "      <td>0.0</td>\n",
              "      <td>1.0</td>\n",
              "      <td>0.0</td>\n",
              "      <td>120.90</td>\n",
              "    </tr>\n",
              "    <tr>\n",
              "      <th>50003</th>\n",
              "      <td>1</td>\n",
              "      <td>NaN</td>\n",
              "      <td>Phone</td>\n",
              "      <td>1</td>\n",
              "      <td>30.0</td>\n",
              "      <td>Debit Card</td>\n",
              "      <td>Male</td>\n",
              "      <td>2.0</td>\n",
              "      <td>4</td>\n",
              "      <td>Mobile</td>\n",
              "      <td>3</td>\n",
              "      <td>Single</td>\n",
              "      <td>6</td>\n",
              "      <td>1</td>\n",
              "      <td>14.0</td>\n",
              "      <td>0.0</td>\n",
              "      <td>1.0</td>\n",
              "      <td>3.0</td>\n",
              "      <td>120.28</td>\n",
              "    </tr>\n",
              "    <tr>\n",
              "      <th>50004</th>\n",
              "      <td>1</td>\n",
              "      <td>0.0</td>\n",
              "      <td>Phone</td>\n",
              "      <td>3</td>\n",
              "      <td>15.0</td>\n",
              "      <td>Debit Card</td>\n",
              "      <td>Male</td>\n",
              "      <td>2.0</td>\n",
              "      <td>4</td>\n",
              "      <td>Laptop &amp; Accessory</td>\n",
              "      <td>5</td>\n",
              "      <td>Single</td>\n",
              "      <td>8</td>\n",
              "      <td>0</td>\n",
              "      <td>23.0</td>\n",
              "      <td>0.0</td>\n",
              "      <td>1.0</td>\n",
              "      <td>3.0</td>\n",
              "      <td>134.07</td>\n",
              "    </tr>\n",
              "    <tr>\n",
              "      <th>50005</th>\n",
              "      <td>1</td>\n",
              "      <td>0.0</td>\n",
              "      <td>Phone</td>\n",
              "      <td>1</td>\n",
              "      <td>12.0</td>\n",
              "      <td>CC</td>\n",
              "      <td>Male</td>\n",
              "      <td>NaN</td>\n",
              "      <td>3</td>\n",
              "      <td>Mobile</td>\n",
              "      <td>5</td>\n",
              "      <td>Single</td>\n",
              "      <td>3</td>\n",
              "      <td>0</td>\n",
              "      <td>11.0</td>\n",
              "      <td>1.0</td>\n",
              "      <td>1.0</td>\n",
              "      <td>3.0</td>\n",
              "      <td>129.60</td>\n",
              "    </tr>\n",
              "  </tbody>\n",
              "</table>\n",
              "</div>\n",
              "      <button class=\"colab-df-convert\" onclick=\"convertToInteractive('df-34068bc4-07f0-442e-b89a-854dd3256441')\"\n",
              "              title=\"Convert this dataframe to an interactive table.\"\n",
              "              style=\"display:none;\">\n",
              "        \n",
              "  <svg xmlns=\"http://www.w3.org/2000/svg\" height=\"24px\"viewBox=\"0 0 24 24\"\n",
              "       width=\"24px\">\n",
              "    <path d=\"M0 0h24v24H0V0z\" fill=\"none\"/>\n",
              "    <path d=\"M18.56 5.44l.94 2.06.94-2.06 2.06-.94-2.06-.94-.94-2.06-.94 2.06-2.06.94zm-11 1L8.5 8.5l.94-2.06 2.06-.94-2.06-.94L8.5 2.5l-.94 2.06-2.06.94zm10 10l.94 2.06.94-2.06 2.06-.94-2.06-.94-.94-2.06-.94 2.06-2.06.94z\"/><path d=\"M17.41 7.96l-1.37-1.37c-.4-.4-.92-.59-1.43-.59-.52 0-1.04.2-1.43.59L10.3 9.45l-7.72 7.72c-.78.78-.78 2.05 0 2.83L4 21.41c.39.39.9.59 1.41.59.51 0 1.02-.2 1.41-.59l7.78-7.78 2.81-2.81c.8-.78.8-2.07 0-2.86zM5.41 20L4 18.59l7.72-7.72 1.47 1.35L5.41 20z\"/>\n",
              "  </svg>\n",
              "      </button>\n",
              "      \n",
              "  <style>\n",
              "    .colab-df-container {\n",
              "      display:flex;\n",
              "      flex-wrap:wrap;\n",
              "      gap: 12px;\n",
              "    }\n",
              "\n",
              "    .colab-df-convert {\n",
              "      background-color: #E8F0FE;\n",
              "      border: none;\n",
              "      border-radius: 50%;\n",
              "      cursor: pointer;\n",
              "      display: none;\n",
              "      fill: #1967D2;\n",
              "      height: 32px;\n",
              "      padding: 0 0 0 0;\n",
              "      width: 32px;\n",
              "    }\n",
              "\n",
              "    .colab-df-convert:hover {\n",
              "      background-color: #E2EBFA;\n",
              "      box-shadow: 0px 1px 2px rgba(60, 64, 67, 0.3), 0px 1px 3px 1px rgba(60, 64, 67, 0.15);\n",
              "      fill: #174EA6;\n",
              "    }\n",
              "\n",
              "    [theme=dark] .colab-df-convert {\n",
              "      background-color: #3B4455;\n",
              "      fill: #D2E3FC;\n",
              "    }\n",
              "\n",
              "    [theme=dark] .colab-df-convert:hover {\n",
              "      background-color: #434B5C;\n",
              "      box-shadow: 0px 1px 3px 1px rgba(0, 0, 0, 0.15);\n",
              "      filter: drop-shadow(0px 1px 2px rgba(0, 0, 0, 0.3));\n",
              "      fill: #FFFFFF;\n",
              "    }\n",
              "  </style>\n",
              "\n",
              "      <script>\n",
              "        const buttonEl =\n",
              "          document.querySelector('#df-34068bc4-07f0-442e-b89a-854dd3256441 button.colab-df-convert');\n",
              "        buttonEl.style.display =\n",
              "          google.colab.kernel.accessAllowed ? 'block' : 'none';\n",
              "\n",
              "        async function convertToInteractive(key) {\n",
              "          const element = document.querySelector('#df-34068bc4-07f0-442e-b89a-854dd3256441');\n",
              "          const dataTable =\n",
              "            await google.colab.kernel.invokeFunction('convertToInteractive',\n",
              "                                                     [key], {});\n",
              "          if (!dataTable) return;\n",
              "\n",
              "          const docLinkHtml = 'Like what you see? Visit the ' +\n",
              "            '<a target=\"_blank\" href=https://colab.research.google.com/notebooks/data_table.ipynb>data table notebook</a>'\n",
              "            + ' to learn more about interactive tables.';\n",
              "          element.innerHTML = '';\n",
              "          dataTable['output_type'] = 'display_data';\n",
              "          await google.colab.output.renderOutput(dataTable, element);\n",
              "          const docLink = document.createElement('div');\n",
              "          docLink.innerHTML = docLinkHtml;\n",
              "          element.appendChild(docLink);\n",
              "        }\n",
              "      </script>\n",
              "    </div>\n",
              "  </div>\n",
              "  "
            ]
          },
          "metadata": {},
          "execution_count": 3
        }
      ],
      "source": [
        "url=\"https://github.com/anvarnarz/praktikum_datasets/blob/main/E-Commerce-Dataset.xlsx?raw=true\"\n",
        "df = pd.read_excel(url, sheet_name=\"E Comm\",index_col=0)\n",
        "df.head()"
      ]
    },
    {
      "cell_type": "code",
      "execution_count": 4,
      "id": "7b1f88e8",
      "metadata": {
        "colab": {
          "base_uri": "https://localhost:8080/"
        },
        "id": "7b1f88e8",
        "outputId": "99e5b9c8-bcd7-4668-ade7-bab9a5e3081c"
      },
      "outputs": [
        {
          "output_type": "stream",
          "name": "stdout",
          "text": [
            "<class 'pandas.core.frame.DataFrame'>\n",
            "Int64Index: 5630 entries, 50001 to 55630\n",
            "Data columns (total 19 columns):\n",
            " #   Column                       Non-Null Count  Dtype  \n",
            "---  ------                       --------------  -----  \n",
            " 0   Churn                        5630 non-null   int64  \n",
            " 1   Tenure                       5366 non-null   float64\n",
            " 2   PreferredLoginDevice         5630 non-null   object \n",
            " 3   CityTier                     5630 non-null   int64  \n",
            " 4   WarehouseToHome              5379 non-null   float64\n",
            " 5   PreferredPaymentMode         5630 non-null   object \n",
            " 6   Gender                       5630 non-null   object \n",
            " 7   HourSpendOnApp               5375 non-null   float64\n",
            " 8   NumberOfDeviceRegistered     5630 non-null   int64  \n",
            " 9   PreferedOrderCat             5630 non-null   object \n",
            " 10  SatisfactionScore            5630 non-null   int64  \n",
            " 11  MaritalStatus                5630 non-null   object \n",
            " 12  NumberOfAddress              5630 non-null   int64  \n",
            " 13  Complain                     5630 non-null   int64  \n",
            " 14  OrderAmountHikeFromlastYear  5365 non-null   float64\n",
            " 15  CouponUsed                   5374 non-null   float64\n",
            " 16  OrderCount                   5372 non-null   float64\n",
            " 17  DaySinceLastOrder            5323 non-null   float64\n",
            " 18  CashbackAmount               5630 non-null   float64\n",
            "dtypes: float64(8), int64(6), object(5)\n",
            "memory usage: 879.7+ KB\n"
          ]
        }
      ],
      "source": [
        "df.info()"
      ]
    },
    {
      "cell_type": "code",
      "execution_count": 5,
      "id": "eea0f20e",
      "metadata": {
        "colab": {
          "base_uri": "https://localhost:8080/",
          "height": 364
        },
        "id": "eea0f20e",
        "outputId": "5879955b-d371-4cf5-84cf-69b0f1864de0"
      },
      "outputs": [
        {
          "output_type": "execute_result",
          "data": {
            "text/plain": [
              "             Churn       Tenure     CityTier  WarehouseToHome  HourSpendOnApp  \\\n",
              "count  5630.000000  5366.000000  5630.000000      5379.000000     5375.000000   \n",
              "mean      0.168384    10.189899     1.654707        15.639896        2.931535   \n",
              "std       0.374240     8.557241     0.915389         8.531475        0.721926   \n",
              "min       0.000000     0.000000     1.000000         5.000000        0.000000   \n",
              "25%       0.000000     2.000000     1.000000         9.000000        2.000000   \n",
              "50%       0.000000     9.000000     1.000000        14.000000        3.000000   \n",
              "75%       0.000000    16.000000     3.000000        20.000000        3.000000   \n",
              "max       1.000000    61.000000     3.000000       127.000000        5.000000   \n",
              "\n",
              "       NumberOfDeviceRegistered  SatisfactionScore  NumberOfAddress  \\\n",
              "count               5630.000000        5630.000000      5630.000000   \n",
              "mean                   3.688988           3.066785         4.214032   \n",
              "std                    1.023999           1.380194         2.583586   \n",
              "min                    1.000000           1.000000         1.000000   \n",
              "25%                    3.000000           2.000000         2.000000   \n",
              "50%                    4.000000           3.000000         3.000000   \n",
              "75%                    4.000000           4.000000         6.000000   \n",
              "max                    6.000000           5.000000        22.000000   \n",
              "\n",
              "          Complain  OrderAmountHikeFromlastYear   CouponUsed   OrderCount  \\\n",
              "count  5630.000000                  5365.000000  5374.000000  5372.000000   \n",
              "mean      0.284902                    15.707922     1.751023     3.008004   \n",
              "std       0.451408                     3.675485     1.894621     2.939680   \n",
              "min       0.000000                    11.000000     0.000000     1.000000   \n",
              "25%       0.000000                    13.000000     1.000000     1.000000   \n",
              "50%       0.000000                    15.000000     1.000000     2.000000   \n",
              "75%       1.000000                    18.000000     2.000000     3.000000   \n",
              "max       1.000000                    26.000000    16.000000    16.000000   \n",
              "\n",
              "       DaySinceLastOrder  CashbackAmount  \n",
              "count        5323.000000     5630.000000  \n",
              "mean            4.543491      177.223030  \n",
              "std             3.654433       49.207036  \n",
              "min             0.000000        0.000000  \n",
              "25%             2.000000      145.770000  \n",
              "50%             3.000000      163.280000  \n",
              "75%             7.000000      196.392500  \n",
              "max            46.000000      324.990000  "
            ],
            "text/html": [
              "\n",
              "  <div id=\"df-9eb14c13-3ab2-4350-a2c4-0158c46deb3b\">\n",
              "    <div class=\"colab-df-container\">\n",
              "      <div>\n",
              "<style scoped>\n",
              "    .dataframe tbody tr th:only-of-type {\n",
              "        vertical-align: middle;\n",
              "    }\n",
              "\n",
              "    .dataframe tbody tr th {\n",
              "        vertical-align: top;\n",
              "    }\n",
              "\n",
              "    .dataframe thead th {\n",
              "        text-align: right;\n",
              "    }\n",
              "</style>\n",
              "<table border=\"1\" class=\"dataframe\">\n",
              "  <thead>\n",
              "    <tr style=\"text-align: right;\">\n",
              "      <th></th>\n",
              "      <th>Churn</th>\n",
              "      <th>Tenure</th>\n",
              "      <th>CityTier</th>\n",
              "      <th>WarehouseToHome</th>\n",
              "      <th>HourSpendOnApp</th>\n",
              "      <th>NumberOfDeviceRegistered</th>\n",
              "      <th>SatisfactionScore</th>\n",
              "      <th>NumberOfAddress</th>\n",
              "      <th>Complain</th>\n",
              "      <th>OrderAmountHikeFromlastYear</th>\n",
              "      <th>CouponUsed</th>\n",
              "      <th>OrderCount</th>\n",
              "      <th>DaySinceLastOrder</th>\n",
              "      <th>CashbackAmount</th>\n",
              "    </tr>\n",
              "  </thead>\n",
              "  <tbody>\n",
              "    <tr>\n",
              "      <th>count</th>\n",
              "      <td>5630.000000</td>\n",
              "      <td>5366.000000</td>\n",
              "      <td>5630.000000</td>\n",
              "      <td>5379.000000</td>\n",
              "      <td>5375.000000</td>\n",
              "      <td>5630.000000</td>\n",
              "      <td>5630.000000</td>\n",
              "      <td>5630.000000</td>\n",
              "      <td>5630.000000</td>\n",
              "      <td>5365.000000</td>\n",
              "      <td>5374.000000</td>\n",
              "      <td>5372.000000</td>\n",
              "      <td>5323.000000</td>\n",
              "      <td>5630.000000</td>\n",
              "    </tr>\n",
              "    <tr>\n",
              "      <th>mean</th>\n",
              "      <td>0.168384</td>\n",
              "      <td>10.189899</td>\n",
              "      <td>1.654707</td>\n",
              "      <td>15.639896</td>\n",
              "      <td>2.931535</td>\n",
              "      <td>3.688988</td>\n",
              "      <td>3.066785</td>\n",
              "      <td>4.214032</td>\n",
              "      <td>0.284902</td>\n",
              "      <td>15.707922</td>\n",
              "      <td>1.751023</td>\n",
              "      <td>3.008004</td>\n",
              "      <td>4.543491</td>\n",
              "      <td>177.223030</td>\n",
              "    </tr>\n",
              "    <tr>\n",
              "      <th>std</th>\n",
              "      <td>0.374240</td>\n",
              "      <td>8.557241</td>\n",
              "      <td>0.915389</td>\n",
              "      <td>8.531475</td>\n",
              "      <td>0.721926</td>\n",
              "      <td>1.023999</td>\n",
              "      <td>1.380194</td>\n",
              "      <td>2.583586</td>\n",
              "      <td>0.451408</td>\n",
              "      <td>3.675485</td>\n",
              "      <td>1.894621</td>\n",
              "      <td>2.939680</td>\n",
              "      <td>3.654433</td>\n",
              "      <td>49.207036</td>\n",
              "    </tr>\n",
              "    <tr>\n",
              "      <th>min</th>\n",
              "      <td>0.000000</td>\n",
              "      <td>0.000000</td>\n",
              "      <td>1.000000</td>\n",
              "      <td>5.000000</td>\n",
              "      <td>0.000000</td>\n",
              "      <td>1.000000</td>\n",
              "      <td>1.000000</td>\n",
              "      <td>1.000000</td>\n",
              "      <td>0.000000</td>\n",
              "      <td>11.000000</td>\n",
              "      <td>0.000000</td>\n",
              "      <td>1.000000</td>\n",
              "      <td>0.000000</td>\n",
              "      <td>0.000000</td>\n",
              "    </tr>\n",
              "    <tr>\n",
              "      <th>25%</th>\n",
              "      <td>0.000000</td>\n",
              "      <td>2.000000</td>\n",
              "      <td>1.000000</td>\n",
              "      <td>9.000000</td>\n",
              "      <td>2.000000</td>\n",
              "      <td>3.000000</td>\n",
              "      <td>2.000000</td>\n",
              "      <td>2.000000</td>\n",
              "      <td>0.000000</td>\n",
              "      <td>13.000000</td>\n",
              "      <td>1.000000</td>\n",
              "      <td>1.000000</td>\n",
              "      <td>2.000000</td>\n",
              "      <td>145.770000</td>\n",
              "    </tr>\n",
              "    <tr>\n",
              "      <th>50%</th>\n",
              "      <td>0.000000</td>\n",
              "      <td>9.000000</td>\n",
              "      <td>1.000000</td>\n",
              "      <td>14.000000</td>\n",
              "      <td>3.000000</td>\n",
              "      <td>4.000000</td>\n",
              "      <td>3.000000</td>\n",
              "      <td>3.000000</td>\n",
              "      <td>0.000000</td>\n",
              "      <td>15.000000</td>\n",
              "      <td>1.000000</td>\n",
              "      <td>2.000000</td>\n",
              "      <td>3.000000</td>\n",
              "      <td>163.280000</td>\n",
              "    </tr>\n",
              "    <tr>\n",
              "      <th>75%</th>\n",
              "      <td>0.000000</td>\n",
              "      <td>16.000000</td>\n",
              "      <td>3.000000</td>\n",
              "      <td>20.000000</td>\n",
              "      <td>3.000000</td>\n",
              "      <td>4.000000</td>\n",
              "      <td>4.000000</td>\n",
              "      <td>6.000000</td>\n",
              "      <td>1.000000</td>\n",
              "      <td>18.000000</td>\n",
              "      <td>2.000000</td>\n",
              "      <td>3.000000</td>\n",
              "      <td>7.000000</td>\n",
              "      <td>196.392500</td>\n",
              "    </tr>\n",
              "    <tr>\n",
              "      <th>max</th>\n",
              "      <td>1.000000</td>\n",
              "      <td>61.000000</td>\n",
              "      <td>3.000000</td>\n",
              "      <td>127.000000</td>\n",
              "      <td>5.000000</td>\n",
              "      <td>6.000000</td>\n",
              "      <td>5.000000</td>\n",
              "      <td>22.000000</td>\n",
              "      <td>1.000000</td>\n",
              "      <td>26.000000</td>\n",
              "      <td>16.000000</td>\n",
              "      <td>16.000000</td>\n",
              "      <td>46.000000</td>\n",
              "      <td>324.990000</td>\n",
              "    </tr>\n",
              "  </tbody>\n",
              "</table>\n",
              "</div>\n",
              "      <button class=\"colab-df-convert\" onclick=\"convertToInteractive('df-9eb14c13-3ab2-4350-a2c4-0158c46deb3b')\"\n",
              "              title=\"Convert this dataframe to an interactive table.\"\n",
              "              style=\"display:none;\">\n",
              "        \n",
              "  <svg xmlns=\"http://www.w3.org/2000/svg\" height=\"24px\"viewBox=\"0 0 24 24\"\n",
              "       width=\"24px\">\n",
              "    <path d=\"M0 0h24v24H0V0z\" fill=\"none\"/>\n",
              "    <path d=\"M18.56 5.44l.94 2.06.94-2.06 2.06-.94-2.06-.94-.94-2.06-.94 2.06-2.06.94zm-11 1L8.5 8.5l.94-2.06 2.06-.94-2.06-.94L8.5 2.5l-.94 2.06-2.06.94zm10 10l.94 2.06.94-2.06 2.06-.94-2.06-.94-.94-2.06-.94 2.06-2.06.94z\"/><path d=\"M17.41 7.96l-1.37-1.37c-.4-.4-.92-.59-1.43-.59-.52 0-1.04.2-1.43.59L10.3 9.45l-7.72 7.72c-.78.78-.78 2.05 0 2.83L4 21.41c.39.39.9.59 1.41.59.51 0 1.02-.2 1.41-.59l7.78-7.78 2.81-2.81c.8-.78.8-2.07 0-2.86zM5.41 20L4 18.59l7.72-7.72 1.47 1.35L5.41 20z\"/>\n",
              "  </svg>\n",
              "      </button>\n",
              "      \n",
              "  <style>\n",
              "    .colab-df-container {\n",
              "      display:flex;\n",
              "      flex-wrap:wrap;\n",
              "      gap: 12px;\n",
              "    }\n",
              "\n",
              "    .colab-df-convert {\n",
              "      background-color: #E8F0FE;\n",
              "      border: none;\n",
              "      border-radius: 50%;\n",
              "      cursor: pointer;\n",
              "      display: none;\n",
              "      fill: #1967D2;\n",
              "      height: 32px;\n",
              "      padding: 0 0 0 0;\n",
              "      width: 32px;\n",
              "    }\n",
              "\n",
              "    .colab-df-convert:hover {\n",
              "      background-color: #E2EBFA;\n",
              "      box-shadow: 0px 1px 2px rgba(60, 64, 67, 0.3), 0px 1px 3px 1px rgba(60, 64, 67, 0.15);\n",
              "      fill: #174EA6;\n",
              "    }\n",
              "\n",
              "    [theme=dark] .colab-df-convert {\n",
              "      background-color: #3B4455;\n",
              "      fill: #D2E3FC;\n",
              "    }\n",
              "\n",
              "    [theme=dark] .colab-df-convert:hover {\n",
              "      background-color: #434B5C;\n",
              "      box-shadow: 0px 1px 3px 1px rgba(0, 0, 0, 0.15);\n",
              "      filter: drop-shadow(0px 1px 2px rgba(0, 0, 0, 0.3));\n",
              "      fill: #FFFFFF;\n",
              "    }\n",
              "  </style>\n",
              "\n",
              "      <script>\n",
              "        const buttonEl =\n",
              "          document.querySelector('#df-9eb14c13-3ab2-4350-a2c4-0158c46deb3b button.colab-df-convert');\n",
              "        buttonEl.style.display =\n",
              "          google.colab.kernel.accessAllowed ? 'block' : 'none';\n",
              "\n",
              "        async function convertToInteractive(key) {\n",
              "          const element = document.querySelector('#df-9eb14c13-3ab2-4350-a2c4-0158c46deb3b');\n",
              "          const dataTable =\n",
              "            await google.colab.kernel.invokeFunction('convertToInteractive',\n",
              "                                                     [key], {});\n",
              "          if (!dataTable) return;\n",
              "\n",
              "          const docLinkHtml = 'Like what you see? Visit the ' +\n",
              "            '<a target=\"_blank\" href=https://colab.research.google.com/notebooks/data_table.ipynb>data table notebook</a>'\n",
              "            + ' to learn more about interactive tables.';\n",
              "          element.innerHTML = '';\n",
              "          dataTable['output_type'] = 'display_data';\n",
              "          await google.colab.output.renderOutput(dataTable, element);\n",
              "          const docLink = document.createElement('div');\n",
              "          docLink.innerHTML = docLinkHtml;\n",
              "          element.appendChild(docLink);\n",
              "        }\n",
              "      </script>\n",
              "    </div>\n",
              "  </div>\n",
              "  "
            ]
          },
          "metadata": {},
          "execution_count": 5
        }
      ],
      "source": [
        "df.describe()"
      ]
    },
    {
      "cell_type": "code",
      "execution_count": 102,
      "id": "68824d74",
      "metadata": {
        "colab": {
          "base_uri": "https://localhost:8080/"
        },
        "id": "68824d74",
        "outputId": "0c13b865-1533-44e4-8255-0aa60f74212c"
      },
      "outputs": [
        {
          "output_type": "execute_result",
          "data": {
            "text/plain": [
              "Churn                          1.000000\n",
              "Tenure                        -0.329355\n",
              "PreferredLoginDevice           0.111639\n",
              "CityTier                       0.084703\n",
              "WarehouseToHome                0.066839\n",
              "Gender                         0.029264\n",
              "HourSpendOnApp                 0.015009\n",
              "NumberOfDeviceRegistered       0.107939\n",
              "SatisfactionScore              0.105481\n",
              "MaritalStatus                 -0.177987\n",
              "NumberOfAddress                0.043931\n",
              "Complain                       0.250188\n",
              "OrderAmountHikeFromlastYear   -0.003334\n",
              "CouponUsed                    -0.003854\n",
              "OrderCount                    -0.029072\n",
              "DaySinceLastOrder             -0.154776\n",
              "CashbackAmount                -0.154118\n",
              "dtype: float64"
            ]
          },
          "metadata": {},
          "execution_count": 102
        }
      ],
      "source": [
        "df.corrwith(df['Churn'])"
      ]
    },
    {
      "cell_type": "markdown",
      "id": "636c901a",
      "metadata": {
        "id": "636c901a"
      },
      "source": [
        "# Preparing for ML"
      ]
    },
    {
      "cell_type": "code",
      "execution_count": 104,
      "id": "59867e1b",
      "metadata": {
        "colab": {
          "base_uri": "https://localhost:8080/",
          "height": 238
        },
        "id": "59867e1b",
        "outputId": "47a80035-8eaf-4eb4-bb77-6ef6172889ee"
      },
      "outputs": [
        {
          "output_type": "execute_result",
          "data": {
            "text/plain": [
              "            Churn  Tenure  CashbackAmount  SatisfactionScore  Complain  \\\n",
              "CustomerID                                                               \n",
              "50001           1     4.0          159.93                  2         1   \n",
              "50002           1     4.0          120.90                  3         1   \n",
              "50003           1     4.0          120.28                  3         1   \n",
              "50004           1     0.0          134.07                  5         0   \n",
              "50005           1     0.0          129.60                  5         0   \n",
              "\n",
              "            Gender  DaySinceLastOrder  \n",
              "CustomerID                             \n",
              "50001            0                5.0  \n",
              "50002            1                0.0  \n",
              "50003            1                3.0  \n",
              "50004            1                3.0  \n",
              "50005            1                3.0  "
            ],
            "text/html": [
              "\n",
              "  <div id=\"df-949aeb18-b111-4265-8b9d-6bb74c331d3a\">\n",
              "    <div class=\"colab-df-container\">\n",
              "      <div>\n",
              "<style scoped>\n",
              "    .dataframe tbody tr th:only-of-type {\n",
              "        vertical-align: middle;\n",
              "    }\n",
              "\n",
              "    .dataframe tbody tr th {\n",
              "        vertical-align: top;\n",
              "    }\n",
              "\n",
              "    .dataframe thead th {\n",
              "        text-align: right;\n",
              "    }\n",
              "</style>\n",
              "<table border=\"1\" class=\"dataframe\">\n",
              "  <thead>\n",
              "    <tr style=\"text-align: right;\">\n",
              "      <th></th>\n",
              "      <th>Churn</th>\n",
              "      <th>Tenure</th>\n",
              "      <th>CashbackAmount</th>\n",
              "      <th>SatisfactionScore</th>\n",
              "      <th>Complain</th>\n",
              "      <th>Gender</th>\n",
              "      <th>DaySinceLastOrder</th>\n",
              "    </tr>\n",
              "    <tr>\n",
              "      <th>CustomerID</th>\n",
              "      <th></th>\n",
              "      <th></th>\n",
              "      <th></th>\n",
              "      <th></th>\n",
              "      <th></th>\n",
              "      <th></th>\n",
              "      <th></th>\n",
              "    </tr>\n",
              "  </thead>\n",
              "  <tbody>\n",
              "    <tr>\n",
              "      <th>50001</th>\n",
              "      <td>1</td>\n",
              "      <td>4.0</td>\n",
              "      <td>159.93</td>\n",
              "      <td>2</td>\n",
              "      <td>1</td>\n",
              "      <td>0</td>\n",
              "      <td>5.0</td>\n",
              "    </tr>\n",
              "    <tr>\n",
              "      <th>50002</th>\n",
              "      <td>1</td>\n",
              "      <td>4.0</td>\n",
              "      <td>120.90</td>\n",
              "      <td>3</td>\n",
              "      <td>1</td>\n",
              "      <td>1</td>\n",
              "      <td>0.0</td>\n",
              "    </tr>\n",
              "    <tr>\n",
              "      <th>50003</th>\n",
              "      <td>1</td>\n",
              "      <td>4.0</td>\n",
              "      <td>120.28</td>\n",
              "      <td>3</td>\n",
              "      <td>1</td>\n",
              "      <td>1</td>\n",
              "      <td>3.0</td>\n",
              "    </tr>\n",
              "    <tr>\n",
              "      <th>50004</th>\n",
              "      <td>1</td>\n",
              "      <td>0.0</td>\n",
              "      <td>134.07</td>\n",
              "      <td>5</td>\n",
              "      <td>0</td>\n",
              "      <td>1</td>\n",
              "      <td>3.0</td>\n",
              "    </tr>\n",
              "    <tr>\n",
              "      <th>50005</th>\n",
              "      <td>1</td>\n",
              "      <td>0.0</td>\n",
              "      <td>129.60</td>\n",
              "      <td>5</td>\n",
              "      <td>0</td>\n",
              "      <td>1</td>\n",
              "      <td>3.0</td>\n",
              "    </tr>\n",
              "  </tbody>\n",
              "</table>\n",
              "</div>\n",
              "      <button class=\"colab-df-convert\" onclick=\"convertToInteractive('df-949aeb18-b111-4265-8b9d-6bb74c331d3a')\"\n",
              "              title=\"Convert this dataframe to an interactive table.\"\n",
              "              style=\"display:none;\">\n",
              "        \n",
              "  <svg xmlns=\"http://www.w3.org/2000/svg\" height=\"24px\"viewBox=\"0 0 24 24\"\n",
              "       width=\"24px\">\n",
              "    <path d=\"M0 0h24v24H0V0z\" fill=\"none\"/>\n",
              "    <path d=\"M18.56 5.44l.94 2.06.94-2.06 2.06-.94-2.06-.94-.94-2.06-.94 2.06-2.06.94zm-11 1L8.5 8.5l.94-2.06 2.06-.94-2.06-.94L8.5 2.5l-.94 2.06-2.06.94zm10 10l.94 2.06.94-2.06 2.06-.94-2.06-.94-.94-2.06-.94 2.06-2.06.94z\"/><path d=\"M17.41 7.96l-1.37-1.37c-.4-.4-.92-.59-1.43-.59-.52 0-1.04.2-1.43.59L10.3 9.45l-7.72 7.72c-.78.78-.78 2.05 0 2.83L4 21.41c.39.39.9.59 1.41.59.51 0 1.02-.2 1.41-.59l7.78-7.78 2.81-2.81c.8-.78.8-2.07 0-2.86zM5.41 20L4 18.59l7.72-7.72 1.47 1.35L5.41 20z\"/>\n",
              "  </svg>\n",
              "      </button>\n",
              "      \n",
              "  <style>\n",
              "    .colab-df-container {\n",
              "      display:flex;\n",
              "      flex-wrap:wrap;\n",
              "      gap: 12px;\n",
              "    }\n",
              "\n",
              "    .colab-df-convert {\n",
              "      background-color: #E8F0FE;\n",
              "      border: none;\n",
              "      border-radius: 50%;\n",
              "      cursor: pointer;\n",
              "      display: none;\n",
              "      fill: #1967D2;\n",
              "      height: 32px;\n",
              "      padding: 0 0 0 0;\n",
              "      width: 32px;\n",
              "    }\n",
              "\n",
              "    .colab-df-convert:hover {\n",
              "      background-color: #E2EBFA;\n",
              "      box-shadow: 0px 1px 2px rgba(60, 64, 67, 0.3), 0px 1px 3px 1px rgba(60, 64, 67, 0.15);\n",
              "      fill: #174EA6;\n",
              "    }\n",
              "\n",
              "    [theme=dark] .colab-df-convert {\n",
              "      background-color: #3B4455;\n",
              "      fill: #D2E3FC;\n",
              "    }\n",
              "\n",
              "    [theme=dark] .colab-df-convert:hover {\n",
              "      background-color: #434B5C;\n",
              "      box-shadow: 0px 1px 3px 1px rgba(0, 0, 0, 0.15);\n",
              "      filter: drop-shadow(0px 1px 2px rgba(0, 0, 0, 0.3));\n",
              "      fill: #FFFFFF;\n",
              "    }\n",
              "  </style>\n",
              "\n",
              "      <script>\n",
              "        const buttonEl =\n",
              "          document.querySelector('#df-949aeb18-b111-4265-8b9d-6bb74c331d3a button.colab-df-convert');\n",
              "        buttonEl.style.display =\n",
              "          google.colab.kernel.accessAllowed ? 'block' : 'none';\n",
              "\n",
              "        async function convertToInteractive(key) {\n",
              "          const element = document.querySelector('#df-949aeb18-b111-4265-8b9d-6bb74c331d3a');\n",
              "          const dataTable =\n",
              "            await google.colab.kernel.invokeFunction('convertToInteractive',\n",
              "                                                     [key], {});\n",
              "          if (!dataTable) return;\n",
              "\n",
              "          const docLinkHtml = 'Like what you see? Visit the ' +\n",
              "            '<a target=\"_blank\" href=https://colab.research.google.com/notebooks/data_table.ipynb>data table notebook</a>'\n",
              "            + ' to learn more about interactive tables.';\n",
              "          element.innerHTML = '';\n",
              "          dataTable['output_type'] = 'display_data';\n",
              "          await google.colab.output.renderOutput(dataTable, element);\n",
              "          const docLink = document.createElement('div');\n",
              "          docLink.innerHTML = docLinkHtml;\n",
              "          element.appendChild(docLink);\n",
              "        }\n",
              "      </script>\n",
              "    </div>\n",
              "  </div>\n",
              "  "
            ]
          },
          "metadata": {},
          "execution_count": 104
        }
      ],
      "source": [
        "df_forml = df[['Churn','Tenure','CashbackAmount','SatisfactionScore','Complain','Gender','DaySinceLastOrder']]\n",
        "df_forml.head()"
      ]
    },
    {
      "cell_type": "code",
      "execution_count": 72,
      "id": "d2c12156",
      "metadata": {
        "id": "d2c12156"
      },
      "outputs": [],
      "source": [
        "df.fillna(method='ffill',inplace=True)\n",
        "df['PreferredLoginDevice'].replace({'Mobile Phone':-1,'Computer':1,'Phone':1},inplace=True)\n",
        "df.replace({'Male':1,'Female':0},inplace=True)\n",
        "df['MaritalStatus'].replace({'Married':1,'Single':-1,'Divorced':0},inplace=True)\n"
      ]
    },
    {
      "cell_type": "code",
      "execution_count": 105,
      "id": "033dc58f",
      "metadata": {
        "colab": {
          "base_uri": "https://localhost:8080/"
        },
        "id": "033dc58f",
        "outputId": "40f3d2f8-5dc4-42a9-b641-fb60520caa27"
      },
      "outputs": [
        {
          "output_type": "stream",
          "name": "stdout",
          "text": [
            "<class 'pandas.core.frame.DataFrame'>\n",
            "Int64Index: 5630 entries, 50001 to 55630\n",
            "Data columns (total 7 columns):\n",
            " #   Column             Non-Null Count  Dtype  \n",
            "---  ------             --------------  -----  \n",
            " 0   Churn              5630 non-null   int64  \n",
            " 1   Tenure             5630 non-null   float64\n",
            " 2   CashbackAmount     5630 non-null   float64\n",
            " 3   SatisfactionScore  5630 non-null   int64  \n",
            " 4   Complain           5630 non-null   int64  \n",
            " 5   Gender             5630 non-null   int64  \n",
            " 6   DaySinceLastOrder  5630 non-null   float64\n",
            "dtypes: float64(3), int64(4)\n",
            "memory usage: 351.9 KB\n"
          ]
        }
      ],
      "source": [
        "df_forml.info()"
      ]
    },
    {
      "cell_type": "code",
      "execution_count": 106,
      "id": "cae44af2",
      "metadata": {
        "colab": {
          "base_uri": "https://localhost:8080/"
        },
        "id": "cae44af2",
        "outputId": "3fde9f07-57a8-4a16-f9b2-75e7475dd3c6"
      },
      "outputs": [
        {
          "output_type": "execute_result",
          "data": {
            "text/plain": [
              "array([1, 1, 1, ..., 0, 0, 0])"
            ]
          },
          "metadata": {},
          "execution_count": 106
        }
      ],
      "source": [
        "X = df_forml.drop('Churn',axis=1)\n",
        "y = df_forml['Churn'].values\n",
        "y"
      ]
    },
    {
      "cell_type": "code",
      "execution_count": 107,
      "id": "8786f707",
      "metadata": {
        "id": "8786f707"
      },
      "outputs": [],
      "source": [
        "scaler = StandardScaler()\n",
        "X = scaler.fit_transform(X)"
      ]
    },
    {
      "cell_type": "code",
      "execution_count": 108,
      "id": "8070d07c",
      "metadata": {
        "colab": {
          "base_uri": "https://localhost:8080/"
        },
        "id": "8070d07c",
        "outputId": "f28dba33-b4ac-4da0-da73-264dc665d7ca"
      },
      "outputs": [
        {
          "output_type": "execute_result",
          "data": {
            "text/plain": [
              "array([[-0.83714618, -0.85997434, -0.04839247, -0.63119754,  0.81468496,\n",
              "         1.21340613],\n",
              "       [-0.60357416, -0.37483803,  0.67620748, -0.63119754, -1.22746835,\n",
              "         0.11958233],\n",
              "       [-0.01964411,  0.36638197, -1.49759235, -0.63119754,  0.81468496,\n",
              "        -0.42732956],\n",
              "       [-0.48678815, -0.00961391, -0.04839247, -0.63119754, -1.22746835,\n",
              "        -0.15387361],\n",
              "       [ 0.56428593, -0.97277311, -0.04839247, -0.63119754,  0.81468496,\n",
              "        -0.42732956]])"
            ]
          },
          "metadata": {},
          "execution_count": 108
        }
      ],
      "source": [
        "X_train,X_test,y_train,y_test = train_test_split(X,y, test_size=0.25,random_state=30)\n",
        "X_train[:5]"
      ]
    },
    {
      "cell_type": "markdown",
      "id": "7973fb86",
      "metadata": {
        "id": "7973fb86"
      },
      "source": [
        "# ML(Logistic Regression)"
      ]
    },
    {
      "cell_type": "code",
      "execution_count": 109,
      "id": "45d061bb",
      "metadata": {
        "colab": {
          "base_uri": "https://localhost:8080/"
        },
        "id": "45d061bb",
        "outputId": "9b74e328-bfdb-4bfb-8f26-f4f1f4599e5a"
      },
      "outputs": [
        {
          "output_type": "execute_result",
          "data": {
            "text/plain": [
              "LogisticRegression()"
            ]
          },
          "metadata": {},
          "execution_count": 109
        }
      ],
      "source": [
        "lg_model = LogisticRegression()\n",
        "lg_model.fit(X_train,y_train)"
      ]
    },
    {
      "cell_type": "code",
      "execution_count": 110,
      "id": "71cfa4c1",
      "metadata": {
        "colab": {
          "base_uri": "https://localhost:8080/",
          "height": 718
        },
        "id": "71cfa4c1",
        "outputId": "5f02e9b2-ba84-4c70-fa0f-3d4b8e25758c"
      },
      "outputs": [
        {
          "output_type": "stream",
          "name": "stdout",
          "text": [
            "Accuracy of LogisticReg: 0.8465909090909091 \n",
            " Jaccard score of LogisticReg: 0.2751677852348993\n",
            "              precision    recall  f1-score   support\n",
            "\n",
            "           0       0.86      0.97      0.91      1145\n",
            "           1       0.70      0.31      0.43       263\n",
            "\n",
            "    accuracy                           0.85      1408\n",
            "   macro avg       0.78      0.64      0.67      1408\n",
            "weighted avg       0.83      0.85      0.82      1408\n",
            "\n"
          ]
        },
        {
          "output_type": "display_data",
          "data": {
            "text/plain": [
              "<Figure size 432x288 with 2 Axes>"
            ],
            "image/png": "[encoded data removed]"
          },
          "metadata": {
            "needs_background": "light"
          }
        },
        {
          "output_type": "display_data",
          "data": {
            "text/plain": [
              "<Figure size 432x288 with 1 Axes>"
            ],
            "image/png": "[encoded data removed]"
          },
          "metadata": {
            "needs_background": "light"
          }
        }
      ],
      "source": [
        "X_test_lg = lg_model.predict(X_test)\n",
        "print('Accuracy of LogisticReg:' ,metrics.accuracy_score(y_test,X_test_lg),\n",
        "     '\\n Jaccard score of LogisticReg:', metrics.jaccard_score(y_test,X_test_lg))\n",
        "print(metrics.classification_report(y_test,X_test_lg))\n",
        "\n",
        "conf_mat = metrics.confusion_matrix(y_test, X_test_lg)\n",
        "sns.heatmap(conf_mat, annot=True,fmt=\"g\")\n",
        "plt.show()\n",
        "\n",
        "fpr, tpr, thresholds = metrics.roc_curve(y_test, X_test_lg)\n",
        "roc_auc = metrics.auc(fpr, tpr)\n",
        "display = metrics.RocCurveDisplay(fpr=fpr, tpr=tpr, roc_auc=roc_auc, estimator_name='ROC curve')\n",
        "display.plot()\n",
        "plt.show()"
      ]
    },
    {
      "cell_type": "markdown",
      "id": "f9afdb87",
      "metadata": {
        "id": "f9afdb87"
      },
      "source": [
        "# ML(K-nearest neighbors)"
      ]
    },
    {
      "cell_type": "code",
      "execution_count": 111,
      "id": "6d0edfc3",
      "metadata": {
        "colab": {
          "base_uri": "https://localhost:8080/"
        },
        "id": "6d0edfc3",
        "outputId": "f48b20c0-8e43-4958-b7b6-9205352aa964"
      },
      "outputs": [
        {
          "output_type": "execute_result",
          "data": {
            "text/plain": [
              "KNeighborsClassifier(n_neighbors=1)"
            ]
          },
          "metadata": {},
          "execution_count": 111
        }
      ],
      "source": [
        "knn = KNeighborsClassifier(n_neighbors=1)\n",
        "knn.fit(X_train,y_train)"
      ]
    },
    {
      "cell_type": "code",
      "execution_count": 112,
      "id": "43f3af35",
      "metadata": {
        "colab": {
          "base_uri": "https://localhost:8080/",
          "height": 718
        },
        "id": "43f3af35",
        "outputId": "9db0be61-98d1-4f24-d2a4-1c94ecccdf31"
      },
      "outputs": [
        {
          "output_type": "stream",
          "name": "stdout",
          "text": [
            "Accuracy score of K-NN: 0.9225852272727273 \n",
            " Jaccard score of K-NN: 0.658307210031348 \n",
            "               precision    recall  f1-score   support\n",
            "\n",
            "           0       0.95      0.95      0.95      1145\n",
            "           1       0.79      0.80      0.79       263\n",
            "\n",
            "    accuracy                           0.92      1408\n",
            "   macro avg       0.87      0.87      0.87      1408\n",
            "weighted avg       0.92      0.92      0.92      1408\n",
            "\n"
          ]
        },
        {
          "output_type": "display_data",
          "data": {
            "text/plain": [
              "<Figure size 432x288 with 2 Axes>"
            ],
            "image/png": "[encoded data removed]"
          },
          "metadata": {
            "needs_background": "light"
          }
        },
        {
          "output_type": "display_data",
          "data": {
            "text/plain": [
              "<Figure size 432x288 with 1 Axes>"
            ],
            "image/png": "[encoded data removed]"
          },
          "metadata": {
            "needs_background": "light"
          }
        }
      ],
      "source": [
        "x_test_knn = knn.predict(X_test)\n",
        "print('Accuracy score of K-NN:', metrics.accuracy_score(y_test,x_test_knn),\n",
        "      '\\n Jaccard score of K-NN:', metrics.jaccard_score(y_test,x_test_knn),\n",
        "     '\\n', metrics.classification_report(y_test,x_test_knn))\n",
        "\n",
        "conf_mat = metrics.confusion_matrix(y_test, x_test_knn)\n",
        "sns.heatmap(conf_mat, annot=True,fmt=\"g\")\n",
        "plt.show()\n",
        "\n",
        "\n",
        "fpr, tpr, thresholds = metrics.roc_curve(y_test, x_test_knn)\n",
        "roc_auc = metrics.auc(fpr, tpr)\n",
        "display = metrics.RocCurveDisplay(fpr=fpr, tpr=tpr, roc_auc=roc_auc, estimator_name='ROC curve')\n",
        "display.plot()\n",
        "plt.show()"
      ]
    },
    {
      "cell_type": "code",
      "execution_count": 113,
      "id": "4cabf4d3",
      "metadata": {
        "colab": {
          "base_uri": "https://localhost:8080/"
        },
        "id": "4cabf4d3",
        "outputId": "7aa7189e-b326-4819-ef16-35b95043a368"
      },
      "outputs": [
        {
          "output_type": "execute_result",
          "data": {
            "text/plain": [
              "GridSearchCV(cv=5, estimator=KNeighborsClassifier(n_neighbors=1),\n",
              "             param_grid={'n_neighbors': array([ 1,  2,  3,  4,  5,  6,  7,  8,  9, 10, 11, 12, 13, 14, 15, 16, 17,\n",
              "       18, 19, 20, 21, 22, 23, 24])})"
            ]
          },
          "metadata": {},
          "execution_count": 113
        }
      ],
      "source": [
        "from sklearn.model_selection import GridSearchCV\n",
        "\n",
        "param_grid = {'n_neighbors': np.arange(1, 25)}\n",
        "\n",
        "knn_gscv = GridSearchCV(knn, param_grid, cv=5)\n",
        "\n",
        "knn_gscv.fit(X_train, y_train)"
      ]
    },
    {
      "cell_type": "code",
      "execution_count": 114,
      "id": "91fb5330",
      "metadata": {
        "colab": {
          "base_uri": "https://localhost:8080/"
        },
        "id": "91fb5330",
        "outputId": "1f9e7c0e-7dbf-466c-913a-6a647efe297f"
      },
      "outputs": [
        {
          "output_type": "execute_result",
          "data": {
            "text/plain": [
              "{'n_neighbors': 1}"
            ]
          },
          "metadata": {},
          "execution_count": 114
        }
      ],
      "source": [
        "knn_gscv.best_params_"
      ]
    },
    {
      "cell_type": "markdown",
      "id": "e2b6f077",
      "metadata": {
        "id": "e2b6f077"
      },
      "source": [
        "# ML(Decision Tree)"
      ]
    },
    {
      "cell_type": "code",
      "execution_count": 119,
      "id": "f15a3e50",
      "metadata": {
        "colab": {
          "base_uri": "https://localhost:8080/"
        },
        "id": "f15a3e50",
        "outputId": "217519cd-78e9-4e07-d9d2-4dd43fd45cbf"
      },
      "outputs": [
        {
          "output_type": "execute_result",
          "data": {
            "text/plain": [
              "DecisionTreeClassifier(max_depth=22)"
            ]
          },
          "metadata": {},
          "execution_count": 119
        }
      ],
      "source": [
        "tree_model = DecisionTreeClassifier(max_depth=22)\n",
        "tree_model.fit(X_train,y_train)"
      ]
    },
    {
      "cell_type": "code",
      "execution_count": 120,
      "id": "d2f755af",
      "metadata": {
        "colab": {
          "base_uri": "https://localhost:8080/",
          "height": 718
        },
        "id": "d2f755af",
        "outputId": "7a7f1270-63d2-4bfb-f27b-36cc9651f681"
      },
      "outputs": [
        {
          "output_type": "stream",
          "name": "stdout",
          "text": [
            "Accuracy score of Decision Tree: 0.9431818181818182 \n",
            " Jaccard score of Decision Tree: 0.735973597359736 \n",
            "               precision    recall  f1-score   support\n",
            "\n",
            "           0       0.97      0.97      0.97      1145\n",
            "           1       0.85      0.85      0.85       263\n",
            "\n",
            "    accuracy                           0.94      1408\n",
            "   macro avg       0.91      0.91      0.91      1408\n",
            "weighted avg       0.94      0.94      0.94      1408\n",
            "\n"
          ]
        },
        {
          "output_type": "display_data",
          "data": {
            "text/plain": [
              "<Figure size 432x288 with 2 Axes>"
            ],
            "image/png": "[encoded data removed]"
          },
          "metadata": {
            "needs_background": "light"
          }
        },
        {
          "output_type": "display_data",
          "data": {
            "text/plain": [
              "<Figure size 432x288 with 1 Axes>"
            ],
            "image/png": "[encoded data removed]"
          },
          "metadata": {
            "needs_background": "light"
          }
        }
      ],
      "source": [
        "x_tree = tree_model.predict(X_test)\n",
        "print('Accuracy score of Decision Tree:', metrics.accuracy_score(y_test,x_tree),\n",
        "      '\\n Jaccard score of Decision Tree:', metrics.jaccard_score(y_test,x_tree),\n",
        "     '\\n', metrics.classification_report(y_test,x_tree))\n",
        "\n",
        "conf_mat = metrics.confusion_matrix(y_test, x_tree)\n",
        "sns.heatmap(conf_mat, annot=True,fmt=\"g\")\n",
        "plt.show()\n",
        "\n",
        "\n",
        "fpr, tpr, thresholds = metrics.roc_curve(y_test, x_tree)\n",
        "roc_auc = metrics.auc(fpr, tpr)\n",
        "display = metrics.RocCurveDisplay(fpr=fpr, tpr=tpr, roc_auc=roc_auc, estimator_name='ROC curve')\n",
        "display.plot()\n",
        "plt.show()\n"
      ]
    },
    {
      "cell_type": "code",
      "execution_count": 117,
      "id": "4c33162e",
      "metadata": {
        "colab": {
          "base_uri": "https://localhost:8080/"
        },
        "id": "4c33162e",
        "outputId": "bea190ff-dd7a-4dc8-9634-85dac33a8430"
      },
      "outputs": [
        {
          "output_type": "execute_result",
          "data": {
            "text/plain": [
              "GridSearchCV(cv=5, estimator=DecisionTreeClassifier(max_depth=21),\n",
              "             param_grid={'max_depth': array([ 1,  2,  3,  4,  5,  6,  7,  8,  9, 10, 11, 12, 13, 14, 15, 16, 17,\n",
              "       18, 19, 20, 21, 22, 23, 24])})"
            ]
          },
          "metadata": {},
          "execution_count": 117
        }
      ],
      "source": [
        "from sklearn.model_selection import GridSearchCV\n",
        "\n",
        "param_grid = {'max_depth': np.arange(1, 25)}\n",
        "\n",
        "tree_gscv = GridSearchCV(tree_model, param_grid, cv=5)\n",
        "\n",
        "tree_gscv.fit(X_train, y_train)"
      ]
    },
    {
      "cell_type": "code",
      "execution_count": 118,
      "id": "8cd09ba9",
      "metadata": {
        "colab": {
          "base_uri": "https://localhost:8080/"
        },
        "id": "8cd09ba9",
        "outputId": "054f28fc-d892-4f34-db20-97aff3f62e15"
      },
      "outputs": [
        {
          "output_type": "execute_result",
          "data": {
            "text/plain": [
              "{'max_depth': 22}"
            ]
          },
          "metadata": {},
          "execution_count": 118
        }
      ],
      "source": [
        "tree_gscv.best_params_"
      ]
    },
    {
      "cell_type": "markdown",
      "id": "b136e944",
      "metadata": {
        "id": "b136e944"
      },
      "source": [
        "# ML(Random Forest)"
      ]
    },
    {
      "cell_type": "code",
      "execution_count": 125,
      "id": "b6d8efd8",
      "metadata": {
        "colab": {
          "base_uri": "https://localhost:8080/"
        },
        "id": "b6d8efd8",
        "outputId": "97efcb20-88ba-4eef-dbca-e42887a9e333"
      },
      "outputs": [
        {
          "output_type": "execute_result",
          "data": {
            "text/plain": [
              "RandomForestClassifier(n_estimators=44)"
            ]
          },
          "metadata": {},
          "execution_count": 125
        }
      ],
      "source": [
        "forest = RandomForestClassifier(n_estimators=44)\n",
        "forest.fit(X_train,y_train)"
      ]
    },
    {
      "cell_type": "code",
      "execution_count": 126,
      "id": "a4fecd6e",
      "metadata": {
        "colab": {
          "base_uri": "https://localhost:8080/",
          "height": 718
        },
        "id": "a4fecd6e",
        "outputId": "e8c9c611-57f3-4805-f80a-a46bfbdcc33f"
      },
      "outputs": [
        {
          "output_type": "stream",
          "name": "stdout",
          "text": [
            "Accuracy score of Random Forest: 0.9367897727272727 \n",
            " Jaccard score of Random Forest: 0.7033333333333334 \n",
            "               precision    recall  f1-score   support\n",
            "\n",
            "           0       0.96      0.97      0.96      1145\n",
            "           1       0.85      0.80      0.83       263\n",
            "\n",
            "    accuracy                           0.94      1408\n",
            "   macro avg       0.90      0.88      0.89      1408\n",
            "weighted avg       0.94      0.94      0.94      1408\n",
            "\n"
          ]
        },
        {
          "output_type": "display_data",
          "data": {
            "text/plain": [
              "<Figure size 432x288 with 2 Axes>"
            ],
            "image/png": "[encoded data removed]"
          },
          "metadata": {
            "needs_background": "light"
          }
        },
        {
          "output_type": "display_data",
          "data": {
            "text/plain": [
              "<Figure size 432x288 with 1 Axes>"
            ],
            "image/png": "[encoded data removed]"
          },
          "metadata": {
            "needs_background": "light"
          }
        }
      ],
      "source": [
        "x_forest = forest.predict(X_test)\n",
        "print('Accuracy score of Random Forest:', metrics.accuracy_score(y_test,x_forest),\n",
        "      '\\n Jaccard score of Random Forest:', metrics.jaccard_score(y_test,x_forest),\n",
        "     '\\n', metrics.classification_report(y_test,x_forest))\n",
        "\n",
        "conf_mat = metrics.confusion_matrix(y_test, x_forest)\n",
        "sns.heatmap(conf_mat, annot=True,fmt=\"g\")\n",
        "plt.show()\n",
        "\n",
        "\n",
        "fpr, tpr, thresholds = metrics.roc_curve(y_test, x_forest)\n",
        "roc_auc = metrics.auc(fpr, tpr)\n",
        "display = metrics.RocCurveDisplay(fpr=fpr, tpr=tpr, roc_auc=roc_auc, estimator_name='ROC curve')\n",
        "display.plot()\n",
        "plt.show()\n"
      ]
    },
    {
      "cell_type": "code",
      "execution_count": 123,
      "id": "c8714d8e",
      "metadata": {
        "colab": {
          "base_uri": "https://localhost:8080/"
        },
        "id": "c8714d8e",
        "outputId": "3cace5f2-26df-4480-e7f6-b6636d36f875"
      },
      "outputs": [
        {
          "output_type": "execute_result",
          "data": {
            "text/plain": [
              "GridSearchCV(cv=5, estimator=RandomForestClassifier(n_estimators=32),\n",
              "             param_grid={'n_estimators': array([ 1,  2,  3,  4,  5,  6,  7,  8,  9, 10, 11, 12, 13, 14, 15, 16, 17,\n",
              "       18, 19, 20, 21, 22, 23, 24, 25, 26, 27, 28, 29, 30, 31, 32, 33, 34,\n",
              "       35, 36, 37, 38, 39, 40, 41, 42, 43, 44, 45, 46, 47, 48, 49])})"
            ]
          },
          "metadata": {},
          "execution_count": 123
        }
      ],
      "source": [
        "from sklearn.model_selection import GridSearchCV\n",
        "\n",
        "param_grid = {'n_estimators': np.arange(1, 50)}\n",
        "\n",
        "forest_gscv = GridSearchCV(forest, param_grid, cv=5)\n",
        "\n",
        "forest_gscv.fit(X_train, y_train)"
      ]
    },
    {
      "cell_type": "code",
      "execution_count": 124,
      "id": "77b45c81",
      "metadata": {
        "colab": {
          "base_uri": "https://localhost:8080/"
        },
        "id": "77b45c81",
        "outputId": "0b605db6-42dd-4870-ce4a-1297f3354343"
      },
      "outputs": [
        {
          "output_type": "execute_result",
          "data": {
            "text/plain": [
              "{'n_estimators': 44}"
            ]
          },
          "metadata": {},
          "execution_count": 124
        }
      ],
      "source": [
        "forest_gscv.best_params_"
      ]
    },
    {
      "cell_type": "markdown",
      "id": "c42867fd",
      "metadata": {
        "id": "c42867fd"
      },
      "source": [
        "# ML(Support Vector Machines)"
      ]
    },
    {
      "cell_type": "code",
      "execution_count": 127,
      "id": "3091e9a3",
      "metadata": {
        "colab": {
          "base_uri": "https://localhost:8080/"
        },
        "id": "3091e9a3",
        "outputId": "78384528-27ec-407a-a789-aac5957e56a4"
      },
      "outputs": [
        {
          "output_type": "execute_result",
          "data": {
            "text/plain": [
              "SVC()"
            ]
          },
          "metadata": {},
          "execution_count": 127
        }
      ],
      "source": [
        "svc = SVC()\n",
        "svc.fit(X_train,y_train)"
      ]
    },
    {
      "cell_type": "code",
      "execution_count": 128,
      "id": "24c3fab5",
      "metadata": {
        "colab": {
          "base_uri": "https://localhost:8080/",
          "height": 718
        },
        "id": "24c3fab5",
        "outputId": "3e5177c7-e6ee-4567-dde7-94aa71986ea4"
      },
      "outputs": [
        {
          "output_type": "stream",
          "name": "stdout",
          "text": [
            "Accuracy score of Random Forest: 0.8522727272727273 \n",
            " Jaccard score of Random Forest: 0.31125827814569534 \n",
            "               precision    recall  f1-score   support\n",
            "\n",
            "           0       0.87      0.97      0.91      1145\n",
            "           1       0.71      0.36      0.47       263\n",
            "\n",
            "    accuracy                           0.85      1408\n",
            "   macro avg       0.79      0.66      0.69      1408\n",
            "weighted avg       0.84      0.85      0.83      1408\n",
            "\n"
          ]
        },
        {
          "output_type": "display_data",
          "data": {
            "text/plain": [
              "<Figure size 432x288 with 2 Axes>"
            ],
            "image/png": "[encoded data removed]"
          },
          "metadata": {
            "needs_background": "light"
          }
        },
        {
          "output_type": "display_data",
          "data": {
            "text/plain": [
              "<Figure size 432x288 with 1 Axes>"
            ],
            "image/png": "[encoded data removed]"
          },
          "metadata": {
            "needs_background": "light"
          }
        }
      ],
      "source": [
        "x_svc = svc.predict(X_test)\n",
        "print('Accuracy score of Random Forest:', metrics.accuracy_score(y_test,x_svc),\n",
        "      '\\n Jaccard score of Random Forest:', metrics.jaccard_score(y_test,x_svc),\n",
        "     '\\n', metrics.classification_report(y_test,x_svc))\n",
        "\n",
        "conf_mat = metrics.confusion_matrix(y_test, x_svc)\n",
        "sns.heatmap(conf_mat, annot=True,fmt=\"g\")\n",
        "plt.show()\n",
        "\n",
        "\n",
        "fpr, tpr, thresholds = metrics.roc_curve(y_test, x_svc)\n",
        "roc_auc = metrics.auc(fpr, tpr)\n",
        "display = metrics.RocCurveDisplay(fpr=fpr, tpr=tpr, roc_auc=roc_auc, estimator_name='ROC curve')\n",
        "display.plot()\n",
        "plt.show()"
      ]
    },
    {
      "cell_type": "markdown",
      "id": "3a94d253",
      "metadata": {
        "id": "3a94d253"
      },
      "source": [
        "# XGBoost"
      ]
    },
    {
      "cell_type": "code",
      "execution_count": 67,
      "id": "349067be",
      "metadata": {
        "id": "349067be"
      },
      "outputs": [],
      "source": [
        "from xgboost import XGBClassifier"
      ]
    },
    {
      "cell_type": "code",
      "execution_count": 129,
      "id": "b5b860ba",
      "metadata": {
        "colab": {
          "base_uri": "https://localhost:8080/"
        },
        "id": "b5b860ba",
        "outputId": "d8b2f73a-7f1a-400f-e0b8-977d60462c04"
      },
      "outputs": [
        {
          "output_type": "execute_result",
          "data": {
            "text/plain": [
              "XGBClassifier()"
            ]
          },
          "metadata": {},
          "execution_count": 129
        }
      ],
      "source": [
        "xgboost = XGBClassifier()\n",
        "xgboost.fit(X_train,y_train)"
      ]
    },
    {
      "cell_type": "code",
      "execution_count": 130,
      "id": "940b87eb",
      "metadata": {
        "colab": {
          "base_uri": "https://localhost:8080/",
          "height": 718
        },
        "id": "940b87eb",
        "outputId": "b6694405-4a16-4f42-e6cb-5917fb8fee2d"
      },
      "outputs": [
        {
          "output_type": "stream",
          "name": "stdout",
          "text": [
            "Accuracy score of XGBoost: 0.8735795454545454 \n",
            " Jaccard score of XGBoost: 0.43670886075949367 \n",
            "               precision    recall  f1-score   support\n",
            "\n",
            "           0       0.90      0.95      0.92      1145\n",
            "           1       0.72      0.52      0.61       263\n",
            "\n",
            "    accuracy                           0.87      1408\n",
            "   macro avg       0.81      0.74      0.77      1408\n",
            "weighted avg       0.86      0.87      0.87      1408\n",
            "\n"
          ]
        },
        {
          "output_type": "display_data",
          "data": {
            "text/plain": [
              "<Figure size 432x288 with 2 Axes>"
            ],
            "image/png": "[encoded data removed]"
          },
          "metadata": {
            "needs_background": "light"
          }
        },
        {
          "output_type": "display_data",
          "data": {
            "text/plain": [
              "<Figure size 432x288 with 1 Axes>"
            ],
            "image/png": "[encoded data removed]"
          },
          "metadata": {
            "needs_background": "light"
          }
        }
      ],
      "source": [
        "x_gboost = xgboost.predict(X_test)\n",
        "print('Accuracy score of XGBoost:', metrics.accuracy_score(y_test,x_gboost),\n",
        "      '\\n Jaccard score of XGBoost:', metrics.jaccard_score(y_test,x_gboost),\n",
        "     '\\n', metrics.classification_report(y_test,x_gboost))\n",
        "\n",
        "conf_mat = metrics.confusion_matrix(y_test, x_gboost)\n",
        "sns.heatmap(conf_mat, annot=True,fmt=\"g\")\n",
        "plt.show()\n",
        "\n",
        "\n",
        "fpr, tpr, thresholds = metrics.roc_curve(y_test, x_gboost)\n",
        "roc_auc = metrics.auc(fpr, tpr)\n",
        "display = metrics.RocCurveDisplay(fpr=fpr, tpr=tpr, roc_auc=roc_auc, estimator_name='ROC curve')\n",
        "display.plot()\n",
        "plt.show()"
      ]
    },
    {
      "cell_type": "code",
      "execution_count": null,
      "id": "e4c75551",
      "metadata": {
        "id": "e4c75551"
      },
      "outputs": [],
      "source": [
        ""
      ]
    }
  ],
  "metadata": {
    "kernelspec": {
      "display_name": "Python 3 (ipykernel)",
      "language": "python",
      "name": "python3"
    },
    "language_info": {
      "codemirror_mode": {
        "name": "ipython",
        "version": 3
      },
      "file_extension": ".py",
      "mimetype": "text/x-python",
      "name": "python",
      "nbconvert_exporter": "python",
      "pygments_lexer": "ipython3",
      "version": "3.7.11"
    },
    "colab": {
      "name": "Customer churn.ipynb",
      "provenance": [],
      "include_colab_link": true
    }
  },
  "nbformat": 4,
  "nbformat_minor": 5
}