{
  "metadata": {
    "kernelspec": {
      "language": "python",
      "display_name": "Python 3",
      "name": "python3"
    },
    "language_info": {
      "name": "python",
      "version": "3.7.12",
      "mimetype": "text/x-python",
      "codemirror_mode": {
        "name": "ipython",
        "version": 3
      },
      "pygments_lexer": "ipython3",
      "nbconvert_exporter": "python",
      "file_extension": ".py"
    },
    "colab": {
      "name": "aviasales.ipynb",
      "provenance": [],
      "include_colab_link": true
    }
  },
  "nbformat_minor": 0,
  "nbformat": 4,
  "cells": [
    {
      "cell_type": "markdown",
      "metadata": {
        "id": "view-in-github",
        "colab_type": "text"
      },
      "source": [
        "<a href=\"https://colab.research.google.com/github/schizohub/ML_projects/blob/main/aviasales.ipynb\" target=\"_parent\"><img src=\"https://colab.research.google.com/assets/colab-badge.svg\" alt=\"Open In Colab\"/></a>"
      ]
    },
    {
      "cell_type": "code",
      "source": [
        "# This Python 3 environment comes with many helpful analytics libraries installed\n",
        "# It is defined by the kaggle/python Docker image: https://github.com/kaggle/docker-python\n",
        "# For example, here's several helpful packages to load\n",
        "\n",
        "import numpy as np # linear algebra\n",
        "import pandas as pd # data processing, CSV file I/O (e.g. pd.read_csv)\n",
        "\n",
        "# Input data files are available in the read-only \"../input/\" directory\n",
        "# For example, running this (by clicking run or pressing Shift+Enter) will list all files under the input directory\n",
        "\n",
        "import os\n",
        "for dirname, _, filenames in os.walk('/kaggle/input'):\n",
        "    for filename in filenames:\n",
        "        print(os.path.join(dirname, filename))\n",
        "\n",
        "# You can write up to 20GB to the current directory (/kaggle/working/) that gets preserved as output when you create a version using \"Save & Run All\" \n",
        "# You can also write temporary files to /kaggle/temp/, but they won't be saved outside of the current session"
      ],
      "metadata": {
        "_uuid": "8f2839f25d086af736a60e9eeb907d3b93b6e0e5",
        "_cell_guid": "b1076dfc-b9ad-4769-8c92-a6c4dae69d19",
        "execution": {
          "iopub.status.busy": "2022-07-30T17:35:19.767266Z",
          "iopub.execute_input": "2022-07-30T17:35:19.767928Z",
          "iopub.status.idle": "2022-07-30T17:35:19.810076Z",
          "shell.execute_reply.started": "2022-07-30T17:35:19.767794Z",
          "shell.execute_reply": "2022-07-30T17:35:19.809063Z"
        },
        "trusted": true,
        "id": "J8I1Zja_1PRh"
      },
      "execution_count": null,
      "outputs": []
    },
    {
      "cell_type": "code",
      "source": [
        "train_data = pd.read_csv(\"/kaggle/input/aviakompaniya/train_dataset.csv\", index_col=0)\n",
        "test_data = pd.read_csv(\"/kaggle/input/aviakompaniya/test_dataset.csv\", index_col=0)\n",
        "submission = pd.read_csv(\"/kaggle/input/aviakompaniya/sample_submission.csv\")"
      ],
      "metadata": {
        "execution": {
          "iopub.status.busy": "2022-07-30T17:37:16.781739Z",
          "iopub.execute_input": "2022-07-30T17:37:16.782238Z",
          "iopub.status.idle": "2022-07-30T17:37:16.887229Z",
          "shell.execute_reply.started": "2022-07-30T17:37:16.782201Z",
          "shell.execute_reply": "2022-07-30T17:37:16.885835Z"
        },
        "trusted": true,
        "id": "ixxMaeRp1PSB"
      },
      "execution_count": null,
      "outputs": []
    },
    {
      "cell_type": "code",
      "source": [
        "train_data.info()"
      ],
      "metadata": {
        "execution": {
          "iopub.status.busy": "2022-07-30T17:37:27.110264Z",
          "iopub.execute_input": "2022-07-30T17:37:27.110781Z",
          "iopub.status.idle": "2022-07-30T17:37:27.142931Z",
          "shell.execute_reply.started": "2022-07-30T17:37:27.110743Z",
          "shell.execute_reply": "2022-07-30T17:37:27.141629Z"
        },
        "trusted": true,
        "id": "7R61k4Lt1PSD"
      },
      "execution_count": null,
      "outputs": []
    },
    {
      "cell_type": "code",
      "source": [
        "test_data.info()"
      ],
      "metadata": {
        "execution": {
          "iopub.status.busy": "2022-07-30T17:37:44.983647Z",
          "iopub.execute_input": "2022-07-30T17:37:44.984141Z",
          "iopub.status.idle": "2022-07-30T17:37:45.009765Z",
          "shell.execute_reply.started": "2022-07-30T17:37:44.984103Z",
          "shell.execute_reply": "2022-07-30T17:37:45.008112Z"
        },
        "trusted": true,
        "id": "1ZmjrMwY1PSJ"
      },
      "execution_count": null,
      "outputs": []
    },
    {
      "cell_type": "code",
      "source": [
        "df = train_data.copy()"
      ],
      "metadata": {
        "execution": {
          "iopub.status.busy": "2022-07-30T19:33:00.537028Z",
          "iopub.execute_input": "2022-07-30T19:33:00.537594Z",
          "iopub.status.idle": "2022-07-30T19:33:00.546348Z",
          "shell.execute_reply.started": "2022-07-30T19:33:00.537548Z",
          "shell.execute_reply": "2022-07-30T19:33:00.544793Z"
        },
        "trusted": true,
        "id": "me_Vd-uq1PSL"
      },
      "execution_count": null,
      "outputs": []
    },
    {
      "cell_type": "code",
      "source": [
        "new_df = test_data.copy()"
      ],
      "metadata": {
        "execution": {
          "iopub.status.busy": "2022-07-30T20:07:40.573978Z",
          "iopub.execute_input": "2022-07-30T20:07:40.574558Z",
          "iopub.status.idle": "2022-07-30T20:07:40.581700Z",
          "shell.execute_reply.started": "2022-07-30T20:07:40.574513Z",
          "shell.execute_reply": "2022-07-30T20:07:40.580662Z"
        },
        "trusted": true,
        "id": "s0le-Epw1PSM"
      },
      "execution_count": null,
      "outputs": []
    },
    {
      "cell_type": "code",
      "source": [
        "import matplotlib.pyplot as plt\n",
        "import seaborn as sns\n",
        "from sklearn.model_selection import train_test_split,  GridSearchCV\n",
        "from sklearn.preprocessing import LabelEncoder\n",
        "from sklearn.linear_model import LogisticRegression\n",
        "from sklearn.ensemble import RandomForestClassifier\n",
        "from sklearn.tree import DecisionTreeClassifier\n",
        "from sklearn.naive_bayes import GaussianNB\n",
        "from sklearn.svm import SVC\n",
        "from xgboost import XGBClassifier\n",
        "from sklearn.neighbors import KNeighborsClassifier\n",
        "from sklearn import metrics"
      ],
      "metadata": {
        "execution": {
          "iopub.status.busy": "2022-07-30T18:15:31.096756Z",
          "iopub.execute_input": "2022-07-30T18:15:31.097246Z",
          "iopub.status.idle": "2022-07-30T18:15:31.533350Z",
          "shell.execute_reply.started": "2022-07-30T18:15:31.097211Z",
          "shell.execute_reply": "2022-07-30T18:15:31.531855Z"
        },
        "trusted": true,
        "id": "UqKlTqNj1PSN"
      },
      "execution_count": null,
      "outputs": []
    },
    {
      "cell_type": "code",
      "source": [
        "def print_value_counts(x):\n",
        "    cols = []\n",
        "    columns = x.columns\n",
        "    for i in columns:\n",
        "        cols.append(x[i].value_counts())\n",
        "    return cols\n",
        "def filled_data(x):\n",
        "    x['Arrival Delay in Minutes']=x.fillna(np.mean(df['Arrival Delay in Minutes']))['Arrival Delay in Minutes'].astype(int)\n",
        "    return x"
      ],
      "metadata": {
        "execution": {
          "iopub.status.busy": "2022-07-30T18:36:25.990959Z",
          "iopub.execute_input": "2022-07-30T18:36:25.991484Z",
          "iopub.status.idle": "2022-07-30T18:36:26.002269Z",
          "shell.execute_reply.started": "2022-07-30T18:36:25.991416Z",
          "shell.execute_reply": "2022-07-30T18:36:26.000887Z"
        },
        "trusted": true,
        "id": "MLu-4X9p1PSP"
      },
      "execution_count": null,
      "outputs": []
    },
    {
      "cell_type": "code",
      "source": [
        "cols = print_value_counts(df)"
      ],
      "metadata": {
        "execution": {
          "iopub.status.busy": "2022-07-30T18:18:07.804667Z",
          "iopub.execute_input": "2022-07-30T18:18:07.805188Z",
          "iopub.status.idle": "2022-07-30T18:18:07.834251Z",
          "shell.execute_reply.started": "2022-07-30T18:18:07.805148Z",
          "shell.execute_reply": "2022-07-30T18:18:07.833085Z"
        },
        "trusted": true,
        "id": "4EMBTmsY1PSR"
      },
      "execution_count": null,
      "outputs": []
    },
    {
      "cell_type": "code",
      "source": [
        "df = filled_data(df)\n",
        "new_df = filled_data(new_df)"
      ],
      "metadata": {
        "execution": {
          "iopub.status.busy": "2022-07-30T20:08:04.831993Z",
          "iopub.execute_input": "2022-07-30T20:08:04.832526Z",
          "iopub.status.idle": "2022-07-30T20:08:04.848393Z",
          "shell.execute_reply.started": "2022-07-30T20:08:04.832483Z",
          "shell.execute_reply": "2022-07-30T20:08:04.847319Z"
        },
        "trusted": true,
        "id": "Mg1SNZ3m1PSV"
      },
      "execution_count": null,
      "outputs": []
    },
    {
      "cell_type": "code",
      "source": [
        "print(cols[0], '\\n')\n",
        "print(cols[1],'\\n')\n",
        "print(cols[3],'\\n')\n",
        "print(cols[4],'\\n')\n",
        "print(cols[6],'\\n')\n",
        "print(cols[7],'\\n')\n",
        "print(cols[8],'\\n')\n",
        "print(cols[9],'\\n')\n",
        "print(cols[10],'\\n')\n",
        "print(cols[11],'\\n')\n",
        "print(cols[12],'\\n')\n",
        "print(cols[13],'\\n')\n",
        "print(cols[14],'\\n')\n",
        "print(cols[15],'\\n')\n",
        "print(cols[16],'\\n')\n",
        "print(cols[17],'\\n')\n",
        "print(cols[18],'\\n')\n",
        "print(cols[19],'\\n')\n",
        "print(cols[22],'\\n')"
      ],
      "metadata": {
        "execution": {
          "iopub.status.busy": "2022-07-30T18:29:36.856706Z",
          "iopub.execute_input": "2022-07-30T18:29:36.857238Z",
          "iopub.status.idle": "2022-07-30T18:29:36.877334Z",
          "shell.execute_reply.started": "2022-07-30T18:29:36.857198Z",
          "shell.execute_reply": "2022-07-30T18:29:36.875672Z"
        },
        "trusted": true,
        "id": "LHjfMBaz1PSY"
      },
      "execution_count": null,
      "outputs": []
    },
    {
      "cell_type": "code",
      "source": [
        "df[df['Cleanliness']==0]"
      ],
      "metadata": {
        "execution": {
          "iopub.status.busy": "2022-07-30T18:30:19.205365Z",
          "iopub.execute_input": "2022-07-30T18:30:19.205890Z",
          "iopub.status.idle": "2022-07-30T18:30:19.234076Z",
          "shell.execute_reply.started": "2022-07-30T18:30:19.205846Z",
          "shell.execute_reply": "2022-07-30T18:30:19.232660Z"
        },
        "trusted": true,
        "id": "iJ8PKUoM1PSZ"
      },
      "execution_count": null,
      "outputs": []
    },
    {
      "cell_type": "code",
      "source": [
        "new_df"
      ],
      "metadata": {
        "execution": {
          "iopub.status.busy": "2022-07-30T20:09:05.488005Z",
          "iopub.execute_input": "2022-07-30T20:09:05.488884Z",
          "iopub.status.idle": "2022-07-30T20:09:05.521482Z",
          "shell.execute_reply.started": "2022-07-30T20:09:05.488838Z",
          "shell.execute_reply": "2022-07-30T20:09:05.520457Z"
        },
        "trusted": true,
        "id": "Z6gOvMyo1PSa"
      },
      "execution_count": null,
      "outputs": []
    },
    {
      "cell_type": "code",
      "source": [
        "# categorical_df = pd.get_dummies(df[['Gender','Customer Type','Type of Travel','Class']])\n",
        "categorical_new_df = pd.get_dummies(new_df[['Gender','Customer Type','Type of Travel','Class']])"
      ],
      "metadata": {
        "execution": {
          "iopub.status.busy": "2022-07-30T20:09:17.272711Z",
          "iopub.execute_input": "2022-07-30T20:09:17.273553Z",
          "iopub.status.idle": "2022-07-30T20:09:17.288869Z",
          "shell.execute_reply.started": "2022-07-30T20:09:17.273510Z",
          "shell.execute_reply": "2022-07-30T20:09:17.287646Z"
        },
        "trusted": true,
        "id": "3V6mzwYV1PSb"
      },
      "execution_count": null,
      "outputs": []
    },
    {
      "cell_type": "code",
      "source": [
        "for i in categorical_new_df.columns:\n",
        "    #     df[i] = categorical_df[i].astype(int).copy()\n",
        "    new_df[i] = categorical_new_df[i].astype(int).copy()"
      ],
      "metadata": {
        "execution": {
          "iopub.status.busy": "2022-07-30T20:10:18.965647Z",
          "iopub.execute_input": "2022-07-30T20:10:18.966571Z",
          "iopub.status.idle": "2022-07-30T20:10:18.982709Z",
          "shell.execute_reply.started": "2022-07-30T20:10:18.966515Z",
          "shell.execute_reply": "2022-07-30T20:10:18.981303Z"
        },
        "trusted": true,
        "id": "yChip1Fe1PSc"
      },
      "execution_count": null,
      "outputs": []
    },
    {
      "cell_type": "code",
      "source": [
        "df = df.drop(['Gender','Customer Type','Type of Travel','Class'],axis=1)"
      ],
      "metadata": {
        "execution": {
          "iopub.status.busy": "2022-07-30T19:33:40.119377Z",
          "iopub.execute_input": "2022-07-30T19:33:40.119880Z",
          "iopub.status.idle": "2022-07-30T19:33:40.130782Z",
          "shell.execute_reply.started": "2022-07-30T19:33:40.119842Z",
          "shell.execute_reply": "2022-07-30T19:33:40.129645Z"
        },
        "trusted": true,
        "id": "Y_GhMatZ1PSc"
      },
      "execution_count": null,
      "outputs": []
    },
    {
      "cell_type": "code",
      "source": [
        "new_df.drop(['Gender','Customer Type','Type of Travel','Class'],axis=1, inplace=True)"
      ],
      "metadata": {
        "execution": {
          "iopub.status.busy": "2022-07-30T20:10:47.700885Z",
          "iopub.execute_input": "2022-07-30T20:10:47.701872Z",
          "iopub.status.idle": "2022-07-30T20:10:47.711849Z",
          "shell.execute_reply.started": "2022-07-30T20:10:47.701810Z",
          "shell.execute_reply": "2022-07-30T20:10:47.710799Z"
        },
        "trusted": true,
        "id": "jRdMyMoN1PSd"
      },
      "execution_count": null,
      "outputs": []
    },
    {
      "cell_type": "code",
      "source": [
        "df.info()"
      ],
      "metadata": {
        "execution": {
          "iopub.status.busy": "2022-07-30T19:33:44.059725Z",
          "iopub.execute_input": "2022-07-30T19:33:44.060805Z",
          "iopub.status.idle": "2022-07-30T19:33:44.078620Z",
          "shell.execute_reply.started": "2022-07-30T19:33:44.060760Z",
          "shell.execute_reply": "2022-07-30T19:33:44.077618Z"
        },
        "trusted": true,
        "id": "llhJMXHd1PSd"
      },
      "execution_count": null,
      "outputs": []
    },
    {
      "cell_type": "code",
      "source": [
        "new_df.info()"
      ],
      "metadata": {
        "execution": {
          "iopub.status.busy": "2022-07-30T20:11:31.943167Z",
          "iopub.execute_input": "2022-07-30T20:11:31.943652Z",
          "iopub.status.idle": "2022-07-30T20:11:31.960146Z",
          "shell.execute_reply.started": "2022-07-30T20:11:31.943611Z",
          "shell.execute_reply": "2022-07-30T20:11:31.958937Z"
        },
        "trusted": true,
        "id": "fGSIU76Z1PSe"
      },
      "execution_count": null,
      "outputs": []
    },
    {
      "cell_type": "code",
      "source": [
        "df.describe()"
      ],
      "metadata": {
        "execution": {
          "iopub.status.busy": "2022-07-30T20:10:59.385805Z",
          "iopub.execute_input": "2022-07-30T20:10:59.386515Z",
          "iopub.status.idle": "2022-07-30T20:10:59.485038Z",
          "shell.execute_reply.started": "2022-07-30T20:10:59.386474Z",
          "shell.execute_reply": "2022-07-30T20:10:59.483635Z"
        },
        "trusted": true,
        "id": "00rGBlly1PSe"
      },
      "execution_count": null,
      "outputs": []
    },
    {
      "cell_type": "code",
      "source": [
        "import plotly.express as px\n",
        "fig = px.histogram(df, x='Departure Delay in Minutes')\n",
        "fig.show()"
      ],
      "metadata": {
        "execution": {
          "iopub.status.busy": "2022-07-30T20:11:14.965586Z",
          "iopub.execute_input": "2022-07-30T20:11:14.966076Z",
          "iopub.status.idle": "2022-07-30T20:11:15.035644Z",
          "shell.execute_reply.started": "2022-07-30T20:11:14.966034Z",
          "shell.execute_reply": "2022-07-30T20:11:15.034664Z"
        },
        "trusted": true,
        "id": "KXEHmf9P1PSf"
      },
      "execution_count": null,
      "outputs": []
    },
    {
      "cell_type": "code",
      "source": [
        "fig = px.histogram(new_df, x='Departure Delay in Minutes')\n",
        "fig.show()"
      ],
      "metadata": {
        "execution": {
          "iopub.status.busy": "2022-07-30T20:11:57.475842Z",
          "iopub.execute_input": "2022-07-30T20:11:57.476543Z",
          "iopub.status.idle": "2022-07-30T20:11:57.542186Z",
          "shell.execute_reply.started": "2022-07-30T20:11:57.476504Z",
          "shell.execute_reply": "2022-07-30T20:11:57.540851Z"
        },
        "trusted": true,
        "id": "GkQWmXgl1PSf"
      },
      "execution_count": null,
      "outputs": []
    },
    {
      "cell_type": "code",
      "source": [
        "fig = px.histogram(df, x='Arrival Delay in Minutes')\n",
        "fig.show()"
      ],
      "metadata": {
        "execution": {
          "iopub.status.busy": "2022-07-30T20:13:12.246847Z",
          "iopub.execute_input": "2022-07-30T20:13:12.248004Z",
          "iopub.status.idle": "2022-07-30T20:13:12.317254Z",
          "shell.execute_reply.started": "2022-07-30T20:13:12.247879Z",
          "shell.execute_reply": "2022-07-30T20:13:12.315977Z"
        },
        "trusted": true,
        "id": "3QuBB4KC1PSg"
      },
      "execution_count": null,
      "outputs": []
    },
    {
      "cell_type": "code",
      "source": [
        "fig = px.histogram(new_df, x='Arrival Delay in Minutes')\n",
        "fig.show()"
      ],
      "metadata": {
        "execution": {
          "iopub.status.busy": "2022-07-30T20:12:19.540042Z",
          "iopub.execute_input": "2022-07-30T20:12:19.540552Z",
          "iopub.status.idle": "2022-07-30T20:12:19.606143Z",
          "shell.execute_reply.started": "2022-07-30T20:12:19.540508Z",
          "shell.execute_reply": "2022-07-30T20:12:19.604955Z"
        },
        "trusted": true,
        "id": "ICHt6mBk1PSh"
      },
      "execution_count": null,
      "outputs": []
    },
    {
      "cell_type": "code",
      "source": [
        "def find_outliers_IQR(df):\n",
        "    q1=df.quantile(0.25)\n",
        "    q3=df.quantile(0.75)\n",
        "    IQR=q3-q1\n",
        "    outliers = df[((df<(q1-1.5*IQR)) | (df>(q3+1.5*IQR)))]\n",
        "    return outliers\n",
        "outliers = find_outliers_IQR(df['Departure Delay in Minutes'])\n",
        "print(\"number of outliers: \"+ str(len(outliers)))\n",
        "print(\"max outlier value: \"+ str(outliers.max()))\n",
        "print(\"min outlier value: \"+ str(outliers.min()))"
      ],
      "metadata": {
        "execution": {
          "iopub.status.busy": "2022-07-30T19:04:08.674161Z",
          "iopub.execute_input": "2022-07-30T19:04:08.674843Z",
          "iopub.status.idle": "2022-07-30T19:04:08.689943Z",
          "shell.execute_reply.started": "2022-07-30T19:04:08.674796Z",
          "shell.execute_reply": "2022-07-30T19:04:08.688717Z"
        },
        "trusted": true,
        "id": "kx_sqTTK1PSh"
      },
      "execution_count": null,
      "outputs": []
    },
    {
      "cell_type": "code",
      "source": [
        "outliers = find_outliers_IQR(new_df['Departure Delay in Minutes'])\n",
        "print(\"number of outliers: \"+ str(len(outliers)))\n",
        "print(\"max outlier value: \"+ str(outliers.max()))\n",
        "print(\"min outlier value: \"+ str(outliers.min()))"
      ],
      "metadata": {
        "execution": {
          "iopub.status.busy": "2022-07-30T20:12:37.229785Z",
          "iopub.execute_input": "2022-07-30T20:12:37.230708Z",
          "iopub.status.idle": "2022-07-30T20:12:37.243041Z",
          "shell.execute_reply.started": "2022-07-30T20:12:37.230663Z",
          "shell.execute_reply": "2022-07-30T20:12:37.241858Z"
        },
        "trusted": true,
        "id": "exs4ka521PSi"
      },
      "execution_count": null,
      "outputs": []
    },
    {
      "cell_type": "code",
      "source": [
        "outliers = find_outliers_IQR(df['Arrival Delay in Minutes'])\n",
        "print(\"number of outliers: \"+ str(len(outliers)))\n",
        "print(\"max outlier value: \"+ str(outliers.max()))\n",
        "print(\"min outlier value: \"+ str(outliers.min()))"
      ],
      "metadata": {
        "execution": {
          "iopub.status.busy": "2022-07-30T19:03:21.782213Z",
          "iopub.execute_input": "2022-07-30T19:03:21.782745Z",
          "iopub.status.idle": "2022-07-30T19:03:21.796878Z",
          "shell.execute_reply.started": "2022-07-30T19:03:21.782699Z",
          "shell.execute_reply": "2022-07-30T19:03:21.795542Z"
        },
        "trusted": true,
        "id": "2-y1shaU1PSj"
      },
      "execution_count": null,
      "outputs": []
    },
    {
      "cell_type": "code",
      "source": [
        "outliers = find_outliers_IQR(new_df['Arrival Delay in Minutes'])\n",
        "print(\"number of outliers: \"+ str(len(outliers)))\n",
        "print(\"max outlier value: \"+ str(outliers.max()))\n",
        "print(\"min outlier value: \"+ str(outliers.min()))"
      ],
      "metadata": {
        "execution": {
          "iopub.status.busy": "2022-07-30T20:12:51.526200Z",
          "iopub.execute_input": "2022-07-30T20:12:51.527620Z",
          "iopub.status.idle": "2022-07-30T20:12:51.541296Z",
          "shell.execute_reply.started": "2022-07-30T20:12:51.527555Z",
          "shell.execute_reply": "2022-07-30T20:12:51.540352Z"
        },
        "trusted": true,
        "id": "43fFyk0W1PSj"
      },
      "execution_count": null,
      "outputs": []
    },
    {
      "cell_type": "code",
      "source": [
        "outliers = find_outliers_IQR(df['Flight Distance'])\n",
        "print(\"number of outliers: \"+ str(len(outliers)))\n",
        "print(\"max outlier value: \"+ str(outliers.max()))\n",
        "print(\"min outlier value: \"+ str(outliers.min()))"
      ],
      "metadata": {
        "id": "vFxwrnSV1PSk"
      },
      "execution_count": null,
      "outputs": []
    },
    {
      "cell_type": "code",
      "source": [
        "outliers = find_outliers_IQR(df['On-board service'])\n",
        "print(\"number of outliers: \"+ str(len(outliers)))\n",
        "print(\"max outlier value: \"+ str(outliers.max()))\n",
        "print(\"min outlier value: \"+ str(outliers.min()))"
      ],
      "metadata": {
        "execution": {
          "iopub.status.busy": "2022-07-30T19:06:18.309764Z",
          "iopub.execute_input": "2022-07-30T19:06:18.310241Z",
          "iopub.status.idle": "2022-07-30T19:06:18.323095Z",
          "shell.execute_reply.started": "2022-07-30T19:06:18.310203Z",
          "shell.execute_reply": "2022-07-30T19:06:18.321983Z"
        },
        "trusted": true,
        "id": "tpQexwy81PSl"
      },
      "execution_count": null,
      "outputs": []
    },
    {
      "cell_type": "code",
      "source": [
        "outliers = find_outliers_IQR(df['Checkin service'])\n",
        "print(\"number of outliers: \"+ str(len(outliers)))\n",
        "print(\"max outlier value: \"+ str(outliers.max()))\n",
        "print(\"min outlier value: \"+ str(outliers.min()))"
      ],
      "metadata": {
        "execution": {
          "iopub.status.busy": "2022-07-30T19:09:59.725821Z",
          "iopub.execute_input": "2022-07-30T19:09:59.726331Z",
          "iopub.status.idle": "2022-07-30T19:09:59.740760Z",
          "shell.execute_reply.started": "2022-07-30T19:09:59.726286Z",
          "shell.execute_reply": "2022-07-30T19:09:59.739495Z"
        },
        "trusted": true,
        "id": "jO6wAJ_A1PSm"
      },
      "execution_count": null,
      "outputs": []
    },
    {
      "cell_type": "code",
      "source": [
        "def impute_outliers_IQR(df):\n",
        "    q1=df.quantile(0.25)\n",
        "    q3=df.quantile(0.75)\n",
        "    IQR=q3-q1\n",
        "    upper = df[~(df>(q3+1.5*IQR))].max()\n",
        "    lower = df[~(df<(q1-1.5*IQR))].min()\n",
        "    df = np.where(df > upper,df.mean(),np.where(df < lower,df.mean(),df))\n",
        "    return df\n",
        "df['Arrival Delay in Minutes'] = impute_outliers_IQR(df['Arrival Delay in Minutes'])\n",
        "df['Departure Delay in Minutes'] = impute_outliers_IQR(df['Departure Delay in Minutes'])\n",
        "# new_df['Arrival Delay in Minutes'] = impute_outliers_IQR(new_df['Arrival Delay in Minutes'])\n",
        "# new_df['Departure Delay in Minutes'] = impute_outliers_IQR(new_df['Departure Delay in Minutes'])\n",
        "df['Flight Distance'] = impute_outliers_IQR(df['Flight Distance'])\n",
        "df['On-board service'] = impute_outliers_IQR(df['On-board service'])\n",
        "df['Checkin service'] = impute_outliers_IQR(df['Checkin service'])\n",
        "new_df['Flight Distance'] = impute_outliers_IQR(new_df['Flight Distance'])\n",
        "new_df['On-board service'] = impute_outliers_IQR(new_df['On-board service'])\n",
        "new_df['Checkin service'] = impute_outliers_IQR(new_df['Checkin service'])\n",
        "# df.describe()[['Arrival Delay in Minutes','Departure Delay in Minutes','Flight Distance','On-board service','Checkin service']]"
      ],
      "metadata": {
        "execution": {
          "iopub.status.busy": "2022-07-30T20:23:32.833663Z",
          "iopub.execute_input": "2022-07-30T20:23:32.834167Z",
          "iopub.status.idle": "2022-07-30T20:23:32.885560Z",
          "shell.execute_reply.started": "2022-07-30T20:23:32.834128Z",
          "shell.execute_reply": "2022-07-30T20:23:32.884152Z"
        },
        "trusted": true,
        "id": "EpqJo74m1PSn"
      },
      "execution_count": null,
      "outputs": []
    },
    {
      "cell_type": "code",
      "source": [
        "df"
      ],
      "metadata": {
        "execution": {
          "iopub.status.busy": "2022-07-30T20:21:09.870548Z",
          "iopub.execute_input": "2022-07-30T20:21:09.871593Z",
          "iopub.status.idle": "2022-07-30T20:21:09.914462Z",
          "shell.execute_reply.started": "2022-07-30T20:21:09.871529Z",
          "shell.execute_reply": "2022-07-30T20:21:09.912253Z"
        },
        "trusted": true,
        "id": "11aHwFct1PSo"
      },
      "execution_count": null,
      "outputs": []
    },
    {
      "cell_type": "code",
      "source": [
        "new_df.describe()[['Arrival Delay in Minutes','Departure Delay in Minutes','Flight Distance','On-board service','Checkin service']]"
      ],
      "metadata": {
        "execution": {
          "iopub.status.busy": "2022-07-30T20:24:14.114557Z",
          "iopub.execute_input": "2022-07-30T20:24:14.115057Z",
          "iopub.status.idle": "2022-07-30T20:24:14.198758Z",
          "shell.execute_reply.started": "2022-07-30T20:24:14.115017Z",
          "shell.execute_reply": "2022-07-30T20:24:14.197776Z"
        },
        "trusted": true,
        "id": "f5_caSBi1PSo"
      },
      "execution_count": null,
      "outputs": []
    },
    {
      "cell_type": "code",
      "source": [
        "X_train, X_test = train_test_split(df, test_size=0.25, random_state=100)"
      ],
      "metadata": {
        "execution": {
          "iopub.status.busy": "2022-07-30T20:21:15.404950Z",
          "iopub.execute_input": "2022-07-30T20:21:15.405461Z",
          "iopub.status.idle": "2022-07-30T20:21:15.415859Z",
          "shell.execute_reply.started": "2022-07-30T20:21:15.405399Z",
          "shell.execute_reply": "2022-07-30T20:21:15.414853Z"
        },
        "trusted": true,
        "id": "doSJgrFn1PSo"
      },
      "execution_count": null,
      "outputs": []
    },
    {
      "cell_type": "code",
      "source": [
        "X_t = X_test.drop('satisfaction', axis=1)\n",
        "y_t = X_test['satisfaction'].values"
      ],
      "metadata": {
        "execution": {
          "iopub.status.busy": "2022-07-30T20:21:18.701157Z",
          "iopub.execute_input": "2022-07-30T20:21:18.702057Z",
          "iopub.status.idle": "2022-07-30T20:21:18.709193Z",
          "shell.execute_reply.started": "2022-07-30T20:21:18.702013Z",
          "shell.execute_reply": "2022-07-30T20:21:18.707894Z"
        },
        "trusted": true,
        "id": "AJI223pb1PSp"
      },
      "execution_count": null,
      "outputs": []
    },
    {
      "cell_type": "code",
      "source": [
        "X = X_train.drop('satisfaction',axis=1)\n",
        "y = X_train['satisfaction'].values"
      ],
      "metadata": {
        "execution": {
          "iopub.status.busy": "2022-07-30T20:21:20.613194Z",
          "iopub.execute_input": "2022-07-30T20:21:20.614068Z",
          "iopub.status.idle": "2022-07-30T20:21:20.623749Z",
          "shell.execute_reply.started": "2022-07-30T20:21:20.614020Z",
          "shell.execute_reply": "2022-07-30T20:21:20.622389Z"
        },
        "trusted": true,
        "id": "icXA8Rqo1PSp"
      },
      "execution_count": null,
      "outputs": []
    },
    {
      "cell_type": "code",
      "source": [
        "from sklearn.preprocessing import StandardScaler\n",
        "std = StandardScaler()\n",
        "X = std.fit_transform(X)\n",
        "X_t = std.fit_transform(X_t)"
      ],
      "metadata": {
        "execution": {
          "iopub.status.busy": "2022-07-30T20:21:24.421701Z",
          "iopub.execute_input": "2022-07-30T20:21:24.422967Z",
          "iopub.status.idle": "2022-07-30T20:21:24.452890Z",
          "shell.execute_reply.started": "2022-07-30T20:21:24.422901Z",
          "shell.execute_reply": "2022-07-30T20:21:24.451485Z"
        },
        "trusted": true,
        "id": "-l4Z4Sjc1PSq"
      },
      "execution_count": null,
      "outputs": []
    },
    {
      "cell_type": "code",
      "source": [
        "X"
      ],
      "metadata": {
        "execution": {
          "iopub.status.busy": "2022-07-30T20:14:57.205654Z",
          "iopub.execute_input": "2022-07-30T20:14:57.206638Z",
          "iopub.status.idle": "2022-07-30T20:14:57.217485Z",
          "shell.execute_reply.started": "2022-07-30T20:14:57.206581Z",
          "shell.execute_reply": "2022-07-30T20:14:57.216296Z"
        },
        "trusted": true,
        "id": "zwcY0sWC1PSq"
      },
      "execution_count": null,
      "outputs": []
    },
    {
      "cell_type": "code",
      "source": [
        "new_X = std.fit_transform(new_df.copy())"
      ],
      "metadata": {
        "execution": {
          "iopub.status.busy": "2022-07-30T20:24:25.462966Z",
          "iopub.execute_input": "2022-07-30T20:24:25.463970Z",
          "iopub.status.idle": "2022-07-30T20:24:25.479390Z",
          "shell.execute_reply.started": "2022-07-30T20:24:25.463911Z",
          "shell.execute_reply": "2022-07-30T20:24:25.478178Z"
        },
        "trusted": true,
        "id": "qwpN8nfX1PSq"
      },
      "execution_count": null,
      "outputs": []
    },
    {
      "cell_type": "code",
      "source": [
        "new_X"
      ],
      "metadata": {
        "execution": {
          "iopub.status.busy": "2022-07-30T20:24:26.727587Z",
          "iopub.execute_input": "2022-07-30T20:24:26.728084Z",
          "iopub.status.idle": "2022-07-30T20:24:26.737612Z",
          "shell.execute_reply.started": "2022-07-30T20:24:26.728044Z",
          "shell.execute_reply": "2022-07-30T20:24:26.736256Z"
        },
        "trusted": true,
        "id": "AFuM2ers1PSr"
      },
      "execution_count": null,
      "outputs": []
    },
    {
      "cell_type": "code",
      "source": [
        "X"
      ],
      "metadata": {
        "execution": {
          "iopub.status.busy": "2022-07-30T19:34:58.005154Z",
          "iopub.execute_input": "2022-07-30T19:34:58.006535Z",
          "iopub.status.idle": "2022-07-30T19:34:58.015392Z",
          "shell.execute_reply.started": "2022-07-30T19:34:58.006432Z",
          "shell.execute_reply": "2022-07-30T19:34:58.014052Z"
        },
        "trusted": true,
        "id": "EedpZjpo1PSr"
      },
      "execution_count": null,
      "outputs": []
    },
    {
      "cell_type": "code",
      "source": [
        "lg = LogisticRegression()\n",
        "lg.fit(X,y)"
      ],
      "metadata": {
        "execution": {
          "iopub.status.busy": "2022-07-30T20:21:30.219375Z",
          "iopub.execute_input": "2022-07-30T20:21:30.220680Z",
          "iopub.status.idle": "2022-07-30T20:21:30.275667Z",
          "shell.execute_reply.started": "2022-07-30T20:21:30.220622Z",
          "shell.execute_reply": "2022-07-30T20:21:30.274456Z"
        },
        "trusted": true,
        "id": "yXnuZeij1PSr"
      },
      "execution_count": null,
      "outputs": []
    },
    {
      "cell_type": "code",
      "source": [
        "prediction = lg.predict(X_t)\n",
        "print('Accuracy of Logistic reg: {:.2f}'.format(metrics.accuracy_score(y_t,prediction)),\n",
        "'\\n Jaccard score of Logistic reg: {:.2f}'.format(metrics.jaccard_score(y_t,prediction)))\n",
        "print(metrics.classification_report(y_t,prediction))\n",
        "\n",
        "conf_mat = metrics.confusion_matrix(y_t,prediction)\n",
        "sns.heatmap(conf_mat, annot=True,fmt=\"g\")\n",
        "plt.show()\n",
        "\n",
        "fpr, tpr, thresholds = metrics.roc_curve(y_t,prediction)\n",
        "roc_auc = metrics.auc(fpr, tpr)\n",
        "display = metrics.RocCurveDisplay(fpr=fpr, tpr=tpr, roc_auc=roc_auc, estimator_name='ROC curve')\n",
        "display.plot()\n",
        "plt.show()"
      ],
      "metadata": {
        "execution": {
          "iopub.status.busy": "2022-07-30T20:21:33.418065Z",
          "iopub.execute_input": "2022-07-30T20:21:33.418606Z",
          "iopub.status.idle": "2022-07-30T20:21:33.911882Z",
          "shell.execute_reply.started": "2022-07-30T20:21:33.418560Z",
          "shell.execute_reply": "2022-07-30T20:21:33.910520Z"
        },
        "trusted": true,
        "id": "mProW1T21PSr"
      },
      "execution_count": null,
      "outputs": []
    },
    {
      "cell_type": "code",
      "source": [
        "knn = KNeighborsClassifier()\n",
        "knn.fit(X,y)"
      ],
      "metadata": {
        "execution": {
          "iopub.status.busy": "2022-07-30T20:21:40.262280Z",
          "iopub.execute_input": "2022-07-30T20:21:40.262778Z",
          "iopub.status.idle": "2022-07-30T20:21:40.272641Z",
          "shell.execute_reply.started": "2022-07-30T20:21:40.262739Z",
          "shell.execute_reply": "2022-07-30T20:21:40.271592Z"
        },
        "trusted": true,
        "id": "UrLVRGc51PSs"
      },
      "execution_count": null,
      "outputs": []
    },
    {
      "cell_type": "code",
      "source": [
        "prediction = knn.predict(X_t)\n",
        "print('Accuracy of K-NN: {:.2f}'.format(metrics.accuracy_score(y_t,prediction)),\n",
        "     '\\n Jaccard score of K-NN: {:.2f}'.format(metrics.jaccard_score(y_t,prediction)))\n",
        "print(metrics.classification_report(y_t,prediction))\n",
        "\n",
        "conf_mat = metrics.confusion_matrix(y_t,prediction)\n",
        "sns.heatmap(conf_mat, annot=True,fmt=\"g\")\n",
        "plt.show()\n",
        "\n",
        "fpr, tpr, thresholds = metrics.roc_curve(y_t,prediction)\n",
        "roc_auc = metrics.auc(fpr, tpr)\n",
        "display = metrics.RocCurveDisplay(fpr=fpr, tpr=tpr, roc_auc=roc_auc, estimator_name='ROC curve')\n",
        "display.plot()\n",
        "plt.show()"
      ],
      "metadata": {
        "execution": {
          "iopub.status.busy": "2022-07-30T20:21:44.441876Z",
          "iopub.execute_input": "2022-07-30T20:21:44.442910Z",
          "iopub.status.idle": "2022-07-30T20:21:45.525245Z",
          "shell.execute_reply.started": "2022-07-30T20:21:44.442846Z",
          "shell.execute_reply": "2022-07-30T20:21:45.524315Z"
        },
        "trusted": true,
        "id": "gC7ZT4AV1PSs"
      },
      "execution_count": null,
      "outputs": []
    },
    {
      "cell_type": "code",
      "source": [
        "rforest = RandomForestClassifier(n_estimators=110,max_depth=25)\n",
        "rforest.fit(X,y)"
      ],
      "metadata": {
        "execution": {
          "iopub.status.busy": "2022-07-30T20:21:51.223520Z",
          "iopub.execute_input": "2022-07-30T20:21:51.224626Z",
          "iopub.status.idle": "2022-07-30T20:21:52.192501Z",
          "shell.execute_reply.started": "2022-07-30T20:21:51.224565Z",
          "shell.execute_reply": "2022-07-30T20:21:52.191209Z"
        },
        "trusted": true,
        "id": "FTV3BHgB1PSs"
      },
      "execution_count": null,
      "outputs": []
    },
    {
      "cell_type": "code",
      "source": [
        "prediction = rforest.predict(X_t)\n",
        "print('Accuracy of Random forest: {:.2f}'.format(metrics.accuracy_score(y_t,prediction)),\n",
        "'\\n Jaccard score of Random forest: {:.2f}'.format(metrics.jaccard_score(y_t,prediction)))\n",
        "print(metrics.classification_report(y_t,prediction))\n",
        "\n",
        "conf_mat = metrics.confusion_matrix(y_t,prediction)\n",
        "sns.heatmap(conf_mat, annot=True,fmt=\"g\")\n",
        "plt.show()\n",
        "\n",
        "fpr, tpr, thresholds = metrics.roc_curve(y_t,prediction)\n",
        "roc_auc = metrics.auc(fpr, tpr)\n",
        "display = metrics.RocCurveDisplay(fpr=fpr, tpr=tpr, roc_auc=roc_auc, estimator_name='ROC curve')\n",
        "display.plot()\n",
        "plt.show()"
      ],
      "metadata": {
        "execution": {
          "iopub.status.busy": "2022-07-30T20:21:56.152596Z",
          "iopub.execute_input": "2022-07-30T20:21:56.153098Z",
          "iopub.status.idle": "2022-07-30T20:21:56.671573Z",
          "shell.execute_reply.started": "2022-07-30T20:21:56.153059Z",
          "shell.execute_reply": "2022-07-30T20:21:56.670218Z"
        },
        "trusted": true,
        "id": "_CuN7yS-1PSt"
      },
      "execution_count": null,
      "outputs": []
    },
    {
      "cell_type": "code",
      "source": [
        "param_grid = {'n_estimators': np.arange(1, 125)}\n",
        "\n",
        "forest_gscv = GridSearchCV(rforest, param_grid, cv=5)\n",
        "\n",
        "forest_gscv.fit(X,y)\n",
        "forest_gscv.best_params_"
      ],
      "metadata": {
        "execution": {
          "iopub.status.busy": "2022-07-30T18:55:11.118303Z",
          "iopub.execute_input": "2022-07-30T18:55:11.118796Z",
          "iopub.status.idle": "2022-07-30T19:00:17.128527Z",
          "shell.execute_reply.started": "2022-07-30T18:55:11.118759Z",
          "shell.execute_reply": "2022-07-30T19:00:17.127182Z"
        },
        "trusted": true,
        "id": "4dobxAxr1PSt"
      },
      "execution_count": null,
      "outputs": []
    },
    {
      "cell_type": "code",
      "source": [
        "tree = DecisionTreeClassifier(min_samples_leaf=11)\n",
        "tree.fit(X,y)"
      ],
      "metadata": {
        "execution": {
          "iopub.status.busy": "2022-07-30T20:22:05.645769Z",
          "iopub.execute_input": "2022-07-30T20:22:05.646286Z",
          "iopub.status.idle": "2022-07-30T20:22:05.690226Z",
          "shell.execute_reply.started": "2022-07-30T20:22:05.646244Z",
          "shell.execute_reply": "2022-07-30T20:22:05.689077Z"
        },
        "trusted": true,
        "id": "DU52WGME1PSt"
      },
      "execution_count": null,
      "outputs": []
    },
    {
      "cell_type": "code",
      "source": [
        "prediction = tree.predict(X_t)\n",
        "print('Accuracy of Decision tree: {:.2f}'.format(metrics.accuracy_score(y_t,prediction)),\n",
        "'\\n Jaccard score of Decision tree: {:.2f}'.format(metrics.jaccard_score(y_t,prediction)))\n",
        "print(metrics.classification_report(y_t,prediction))\n",
        "\n",
        "conf_mat = metrics.confusion_matrix(y_t,prediction)\n",
        "sns.heatmap(conf_mat, annot=True,fmt=\"g\")\n",
        "plt.show()\n",
        "\n",
        "fpr, tpr, thresholds = metrics.roc_curve(y_t,prediction)\n",
        "roc_auc = metrics.auc(fpr, tpr)\n",
        "display = metrics.RocCurveDisplay(fpr=fpr, tpr=tpr, roc_auc=roc_auc, estimator_name='ROC curve')\n",
        "display.plot()\n",
        "plt.show()"
      ],
      "metadata": {
        "execution": {
          "iopub.status.busy": "2022-07-30T20:22:10.646113Z",
          "iopub.execute_input": "2022-07-30T20:22:10.646630Z",
          "iopub.status.idle": "2022-07-30T20:22:11.000352Z",
          "shell.execute_reply.started": "2022-07-30T20:22:10.646585Z",
          "shell.execute_reply": "2022-07-30T20:22:10.999383Z"
        },
        "trusted": true,
        "id": "C7Px4qwb1PSt"
      },
      "execution_count": null,
      "outputs": []
    },
    {
      "cell_type": "code",
      "source": [
        "xgb = XGBClassifier()\n",
        "xgb.fit(X,y)"
      ],
      "metadata": {
        "execution": {
          "iopub.status.busy": "2022-07-30T20:22:17.375850Z",
          "iopub.execute_input": "2022-07-30T20:22:17.376868Z",
          "iopub.status.idle": "2022-07-30T20:22:18.353339Z",
          "shell.execute_reply.started": "2022-07-30T20:22:17.376794Z",
          "shell.execute_reply": "2022-07-30T20:22:18.352256Z"
        },
        "trusted": true,
        "id": "GGrxoxTJ1PSu"
      },
      "execution_count": null,
      "outputs": []
    },
    {
      "cell_type": "code",
      "source": [
        "prediction = xgb.predict(X_t)\n",
        "print('Accuracy of Decision tree: {:.2f}'.format(metrics.accuracy_score(y_t,prediction)),\n",
        "'\\n Jaccard score of Decision tree: {:.2f}'.format(metrics.jaccard_score(y_t,prediction)))\n",
        "print(metrics.classification_report(y_t,prediction))\n",
        "\n",
        "conf_mat = metrics.confusion_matrix(y_t,prediction)\n",
        "sns.heatmap(conf_mat, annot=True,fmt=\"g\")\n",
        "plt.show()\n",
        "\n",
        "fpr, tpr, thresholds = metrics.roc_curve(y_t,prediction)\n",
        "roc_auc = metrics.auc(fpr, tpr)\n",
        "display = metrics.RocCurveDisplay(fpr=fpr, tpr=tpr, roc_auc=roc_auc, estimator_name='ROC curve')\n",
        "display.plot()\n",
        "plt.show()"
      ],
      "metadata": {
        "execution": {
          "iopub.status.busy": "2022-07-30T20:22:20.405484Z",
          "iopub.execute_input": "2022-07-30T20:22:20.405963Z",
          "iopub.status.idle": "2022-07-30T20:22:20.763870Z",
          "shell.execute_reply.started": "2022-07-30T20:22:20.405924Z",
          "shell.execute_reply": "2022-07-30T20:22:20.762553Z"
        },
        "trusted": true,
        "id": "AGO_nle91PSu"
      },
      "execution_count": null,
      "outputs": []
    },
    {
      "cell_type": "code",
      "source": [
        "svc = SVC()\n",
        "svc.fit(X,y)"
      ],
      "metadata": {
        "execution": {
          "iopub.status.busy": "2022-07-30T20:22:30.418756Z",
          "iopub.execute_input": "2022-07-30T20:22:30.419220Z",
          "iopub.status.idle": "2022-07-30T20:22:31.676467Z",
          "shell.execute_reply.started": "2022-07-30T20:22:30.419185Z",
          "shell.execute_reply": "2022-07-30T20:22:31.675335Z"
        },
        "trusted": true,
        "id": "2MDBTpvk1PSu"
      },
      "execution_count": null,
      "outputs": []
    },
    {
      "cell_type": "code",
      "source": [
        "prediction = svc.predict(X_t)\n",
        "print('Accuracy of Decision tree: {:.2f}'.format(metrics.accuracy_score(y_t,prediction)),\n",
        "'\\n Jaccard score of Decision tree: {:.2f}'.format(metrics.jaccard_score(y_t,prediction)))\n",
        "print(metrics.classification_report(y_t,prediction))\n",
        "\n",
        "conf_mat = metrics.confusion_matrix(y_t,prediction)\n",
        "sns.heatmap(conf_mat, annot=True,fmt=\"g\")\n",
        "plt.show()\n",
        "\n",
        "fpr, tpr, thresholds = metrics.roc_curve(y_t,prediction)\n",
        "roc_auc = metrics.auc(fpr, tpr)\n",
        "display = metrics.RocCurveDisplay(fpr=fpr, tpr=tpr, roc_auc=roc_auc, estimator_name='ROC curve')\n",
        "display.plot()\n",
        "plt.show()"
      ],
      "metadata": {
        "execution": {
          "iopub.status.busy": "2022-07-30T20:22:33.409567Z",
          "iopub.execute_input": "2022-07-30T20:22:33.410052Z",
          "iopub.status.idle": "2022-07-30T20:22:34.129087Z",
          "shell.execute_reply.started": "2022-07-30T20:22:33.410014Z",
          "shell.execute_reply": "2022-07-30T20:22:34.127813Z"
        },
        "trusted": true,
        "id": "Xo0ygfcP1PSv"
      },
      "execution_count": null,
      "outputs": []
    },
    {
      "cell_type": "code",
      "source": [
        "predictions = rforest.predict(new_X)"
      ],
      "metadata": {
        "execution": {
          "iopub.status.busy": "2022-07-30T20:26:15.419253Z",
          "iopub.execute_input": "2022-07-30T20:26:15.419752Z",
          "iopub.status.idle": "2022-07-30T20:26:15.516692Z",
          "shell.execute_reply.started": "2022-07-30T20:26:15.419713Z",
          "shell.execute_reply": "2022-07-30T20:26:15.515487Z"
        },
        "trusted": true,
        "id": "IMz9dWx41PSv"
      },
      "execution_count": null,
      "outputs": []
    },
    {
      "cell_type": "code",
      "source": [
        "prediction_xgb = xgb.predict(new_X)"
      ],
      "metadata": {
        "execution": {
          "iopub.status.busy": "2022-07-30T20:24:42.954374Z",
          "iopub.execute_input": "2022-07-30T20:24:42.954833Z",
          "iopub.status.idle": "2022-07-30T20:24:42.969673Z",
          "shell.execute_reply.started": "2022-07-30T20:24:42.954797Z",
          "shell.execute_reply": "2022-07-30T20:24:42.968532Z"
        },
        "trusted": true,
        "id": "NhjDHyXk1PSw"
      },
      "execution_count": null,
      "outputs": []
    },
    {
      "cell_type": "code",
      "source": [
        "submission['satisfaction'] = predictions\n",
        "submission.to_csv('submission_rforest.csv', index=False)"
      ],
      "metadata": {
        "execution": {
          "iopub.status.busy": "2022-07-30T20:26:20.197827Z",
          "iopub.execute_input": "2022-07-30T20:26:20.198336Z",
          "iopub.status.idle": "2022-07-30T20:26:20.213937Z",
          "shell.execute_reply.started": "2022-07-30T20:26:20.198293Z",
          "shell.execute_reply": "2022-07-30T20:26:20.212758Z"
        },
        "trusted": true,
        "id": "nyayV4iK1PSw"
      },
      "execution_count": null,
      "outputs": []
    },
    {
      "cell_type": "code",
      "source": [
        "submission['satisfaction'] = prediction_xgb\n",
        "submission.to_csv('submission_xgb.csv', index=False)"
      ],
      "metadata": {
        "execution": {
          "iopub.status.busy": "2022-07-30T20:24:46.307465Z",
          "iopub.execute_input": "2022-07-30T20:24:46.308003Z",
          "iopub.status.idle": "2022-07-30T20:24:46.325142Z",
          "shell.execute_reply.started": "2022-07-30T20:24:46.307963Z",
          "shell.execute_reply": "2022-07-30T20:24:46.323737Z"
        },
        "trusted": true,
        "id": "GUHz3Ffn1PSx"
      },
      "execution_count": null,
      "outputs": []
    },
    {
      "cell_type": "code",
      "source": [
        ""
      ],
      "metadata": {
        "id": "NMASgZe31PSx"
      },
      "execution_count": null,
      "outputs": []
    }
  ]
}